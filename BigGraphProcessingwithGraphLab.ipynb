{
 "cells": [
  {
   "cell_type": "markdown",
   "metadata": {},
   "source": [
    "<h1 style='text-aling:center;color:Navy'>  Big Data Systems - Assignmnet  </h>"
   ]
  },
  {
   "cell_type": "markdown",
   "metadata": {},
   "source": [
    "<span style=\"font-size:18px;color:#3665af;background-color:#E9E9F5;padding:10px;\">Enter your name:</span><span style=\"font-size:16px;background-color:#A74A54;color:#F1E6E7;padding:10px;\"> Crystin VanWagenen </span>"
   ]
  },
  {
   "cell_type": "markdown",
   "metadata": {},
   "source": [
    "# <span style=\"color:#3665af\">Big Graph Processing with GraphLab </span>\n",
    "<hr>\n",
    "\n",
    "###### Goal\n",
    "In this assignment, we will learn how to work with a graph-based distributed computation framework on Spark to read graph data and calculate graph properties including connected components. The dataset includes metro.csv , country.csv and metro_country.csv. We want to creat a graph that has metro and country as its vertices and the edge between them connects a metro to a country. \n",
    "###### Prerequisites\n",
    "This assignment has the following dependencies:\n",
    "- set up a small cluster loaded with Spark\n",
    "\n"
   ]
  },
  {
   "cell_type": "markdown",
   "metadata": {},
   "source": [
    "To create your Dataproc Cluster, do the following:\n",
    "1. We are assuming you still have a project in Google Cloud.\n",
    "2. Go to Google Platform Dataproc and create a cluster with a master node (4vCPUs and 100 GB disk size). Two workers (2vCPUs and 100 GB disk size)\n",
    "3. Go to storage and in Browser, create a bucket (mybucket_graph)  \n",
    "4. Upload Data_files folder to this bucket \n",
    "5. Connect via SSH to the master node of the cluster"
   ]
  },
  {
   "cell_type": "markdown",
   "metadata": {},
   "source": [
    "Copy the folder from storage bucket to the instance root:\n",
    "    "
   ]
  },
  {
   "cell_type": "markdown",
   "metadata": {},
   "source": [
    "<pre style=\"background-color: #ebece4;padding: 10px;border-left: solid 4px orange;\">\n",
    "gsutil cp -r gs://mybucket_graph/Data_files .\n",
    "</pre>    "
   ]
  },
  {
   "cell_type": "markdown",
   "metadata": {},
   "source": [
    "then if you use ls , you will see this folder in the vm instance root"
   ]
  },
  {
   "cell_type": "markdown",
   "metadata": {},
   "source": [
    "Now Upload the folder to the HDFS Hadoop:\n"
   ]
  },
  {
   "cell_type": "markdown",
   "metadata": {},
   "source": [
    "<pre style=\"background-color: #ebece4;padding: 10px;border-left: solid 4px orange;\">\n",
    "hdfs dfs -put ./Data_files/ \n",
    "<pre>"
   ]
  },
  {
   "cell_type": "markdown",
   "metadata": {},
   "source": [
    "Start the Spark Shell:"
   ]
  },
  {
   "cell_type": "markdown",
   "metadata": {},
   "source": [
    "<pre style=\"background-color: #ebece4;padding: 10px;border-left: solid 4px orange;\">\n",
    "spark-shell --jars gs-core-1.2.jar , gs-ui-1.2.jar\n",
    "</pre>"
   ]
  },
  {
   "cell_type": "markdown",
   "metadata": {},
   "source": [
    "###### Import the GraphX library\n",
    "Set log level to error, suppress info and warn messages:"
   ]
  },
  {
   "cell_type": "markdown",
   "metadata": {},
   "source": [
    "<pre style=\"background-color: #ebece4;padding: 10px;border-left: solid 4px orange;\">\n",
    "import org.apache.log4j.Logger\n",
    "import org.apache.log4j.Level\n",
    "Logger.getLogger(\"org\").setLevel(Level.ERROR)\n",
    "Logger.getLogger(\"akka\").setLevel(Level.ERROR)\n",
    "</pre>"
   ]
  },
  {
   "cell_type": "markdown",
   "metadata": {},
   "source": [
    "Import the Spark's GraphX and RDD libraries along with Scala's source library:"
   ]
  },
  {
   "cell_type": "markdown",
   "metadata": {},
   "source": [
    "<pre style=\"background-color: #ebece4;padding: 10px;border-left: solid 4px orange;\">\n",
    "import org.apache.spark.graphx._\n",
    "import org.apache.spark.rdd._\n",
    "import scala.io.Source\n",
    "</pre>"
   ]
  },
  {
   "cell_type": "markdown",
   "metadata": {},
   "source": [
    "First print first 5 lines of each file to check the input data:"
   ]
  },
  {
   "cell_type": "markdown",
   "metadata": {},
   "source": [
    "<pre style=\"background-color: #ebece4;padding: 10px;border-left: solid 4px orange;\">\n",
    "Source.fromFile(\"./Data_files/metro.csv\").getLines().take(5).foreach(println)\n",
    "</pre>"
   ]
  },
  {
   "cell_type": "markdown",
   "metadata": {},
   "source": [
    "Output:\n",
    "\n",
    "#metro_id,name,population\n",
    "\n",
    "1,Tokyo,36923000\n",
    "2,Seoul,25620000\n",
    "3,Shanghai,24750000\n",
    "4,Guangzhou,23900000"
   ]
  },
  {
   "cell_type": "markdown",
   "metadata": {},
   "source": [
    "<pre style=\"background-color: #ebece4;padding: 10px;border-left: solid 4px orange;\">\n",
    "Source.fromFile(\"./Data_files/country.csv\").getLines().take(5).foreach(println)\n",
    "</pre>"
   ]
  },
  {
   "cell_type": "markdown",
   "metadata": {},
   "source": [
    "Output:\n",
    "#country_id,name\n",
    "\n",
    "1,Japan\n",
    "2,South Korea\n",
    "3,China\n",
    "4,India"
   ]
  },
  {
   "cell_type": "markdown",
   "metadata": {},
   "source": [
    "<pre style=\"background-color: #ebece4;padding: 10px;border-left: solid 4px orange;\">\n",
    "Source.fromFile(\"./Data_files/metro_country.csv\").getLines().take(5).foreach(println)\n",
    "</pre>"
   ]
  },
  {
   "cell_type": "markdown",
   "metadata": {},
   "source": [
    "Output:\n",
    "\n",
    "#metro_id,country_id\n",
    "\n",
    "1,1\n",
    "2,2\n",
    "3,3\n",
    "4,3"
   ]
  },
  {
   "cell_type": "markdown",
   "metadata": {},
   "source": [
    "Create case classes for the places (metros and countries):"
   ]
  },
  {
   "cell_type": "markdown",
   "metadata": {},
   "source": [
    "<pre style=\"background-color: #ebece4;padding: 10px;border-left: solid 4px orange;\">\n",
    "class PlaceNode(val name: String) extends Serializable\n",
    "<pre>"
   ]
  },
  {
   "cell_type": "markdown",
   "metadata": {},
   "source": [
    "output: defined class PlaceNode"
   ]
  },
  {
   "cell_type": "markdown",
   "metadata": {},
   "source": [
    "<pre style=\"background-color: #ebece4;padding: 10px;border-left: solid 4px orange;\">\n",
    "case class Metro(override val name: String, population: Int) extends PlaceNode(name)\n",
    "</pre>"
   ]
  },
  {
   "cell_type": "markdown",
   "metadata": {},
   "source": [
    "<pre style=\"background-color: #ebece4;padding: 10px;border-left: solid 4px orange;\">\n",
    "case class Country(override val name: String) extends PlaceNode(name)\n",
    "</pre>"
   ]
  },
  {
   "cell_type": "markdown",
   "metadata": {},
   "source": [
    "Read the comma delimited text file metros.csv into an RDD of Metro vertices:"
   ]
  },
  {
   "cell_type": "markdown",
   "metadata": {},
   "source": [
    "<pre style=\"background-color: #ebece4;padding: 10px;border-left: solid 4px orange;\">\n",
    "val metros: RDD[(VertexId, PlaceNode)] =\n",
    "sc.textFile(\"./Data_files/metro.csv\").\n",
    "filter(! _.startsWith(\"#\")).\n",
    "map {line =>\n",
    "val row = line split ','\n",
    "(0L + row(0).toInt, Metro(row(1), row(2).toInt))\n",
    "}\n",
    "</pre>"
   ]
  },
  {
   "cell_type": "markdown",
   "metadata": {},
   "source": [
    "output: metros: org.apache.spark.rdd.RDD[(org.apache.spark.graphx.VertexId, PlaceNode)] = MapPartitionsRDD[3] at map at <console>:39"
   ]
  },
  {
   "cell_type": "markdown",
   "metadata": {},
   "source": [
    "Read the comma delimited text file country.csv into an RDD of Country vertices, ignore\n",
    "lines that start with # and map the columns to: id, Country(name). Add 100 to the\n",
    "country indexes so they are distinguished from the metro indexes."
   ]
  },
  {
   "cell_type": "markdown",
   "metadata": {},
   "source": [
    "<pre style=\"background-color: #ebece4;padding: 10px;border-left: solid 4px orange;\">\n",
    "val countries: RDD[(VertexId, PlaceNode)] =\n",
    "sc.textFile(\"./Data_files/country.csv\").\n",
    "filter(! _.startsWith(\"#\")).\n",
    "map {line =>\n",
    "val row = line split ','\n",
    "(100L + row(0).toInt, Country(row(1)))\n",
    "}\n",
    "</pre>"
   ]
  },
  {
   "cell_type": "markdown",
   "metadata": {},
   "source": [
    "###### Import the edges \n",
    "\n",
    "Read the comma delimited text file metro_country.tsv into an RDD[Edge[Int]] collection.\n",
    "Remember to add 100 to the countries' vertex id"
   ]
  },
  {
   "cell_type": "markdown",
   "metadata": {},
   "source": [
    "<pre style=\"background-color: #ebece4;padding: 10px;border-left: solid 4px orange;\">\n",
    "val mclinks: RDD[Edge[Int]] =\n",
    "sc.textFile(\"./Data_files/metro_country.csv\").\n",
    "filter(! _.startsWith(\"#\")).\n",
    "map {line =>\n",
    "val row = line split ','\n",
    "Edge(0L + row(0).toInt, 100L + row(1).toInt, 1)\n",
    "}\n",
    "</pre>"
   ]
  },
  {
   "cell_type": "markdown",
   "metadata": {},
   "source": [
    "###### Create the Graph\n",
    "\n",
    "Concatenate the two sets of nodes into a single RDD."
   ]
  },
  {
   "cell_type": "markdown",
   "metadata": {},
   "source": [
    "<pre style=\"background-color: #ebece4;padding: 10px;border-left: solid 4px orange;\">\n",
    "val nodes = metros ++ countries\n",
    "</pre>\n",
    "<pre style=\"background-color: #ebece4;padding: 10px;border-left: solid 4px orange;\">\n",
    "val metrosGraph = Graph(nodes, mclinks)\n",
    "</pre>"
   ]
  },
  {
   "cell_type": "markdown",
   "metadata": {},
   "source": [
    "<div style=\"width:100%;\">\n",
    "    <div style=\"width:15%;float:left;font-size:20px;background-color:#557aba;color:#eff3f9;padding:6px;font-wight:bold;text-align:center;\">\n",
    "    Question 1\n",
    "    </div>\n",
    "    <div style=\"width:85%;float:right;font-size:16px;background-color:#dce4f2;font-wight:normal;color:black;padding:6px;\">\n",
    "   \n",
    "   Print the first 5 vertices.\n",
    "Hint:  metrosGraph.vertices.take(5)\n",
    "    </div>\n",
    "</div>"
   ]
  },
  {
   "cell_type": "raw",
   "metadata": {},
   "source": [
    "scala> metrosGraph.vertices.take(5)\n",
    "res6: Array[(org.apache.spark.graphx.VertexId, PlaceNode)] = Array((52,Metro(Ankara,5150072)), (56,Metro(Boston,473\n",
    "2161)), (4,Metro(Guangzhou,23900000)), (112,Country(United Kingdom)), (120,Country(Colombia)))"
   ]
  },
  {
   "cell_type": "markdown",
   "metadata": {},
   "source": [
    "<div style=\"width:100%;\">\n",
    "    <div style=\"width:15%;float:left;font-size:20px;background-color:#557aba;color:#eff3f9;padding:6px;font-wight:bold;text-align:center;\">\n",
    "    Question 2\n",
    "    </div>\n",
    "    <div style=\"width:85%;float:right;font-size:16px;background-color:#dce4f2;font-wight:normal;color:black;padding:6px;\">\n",
    "   \n",
    "   Print the first 5 edges.\n",
    "\n",
    "    </div>\n",
    "</div>"
   ]
  },
  {
   "cell_type": "raw",
   "metadata": {},
   "source": [
    "scala> metrosGraph.edges.take(5)\n",
    "res8: Array[org.apache.spark.graphx.Edge[Int]] = Array(Edge(1,101,1), Edge(2,102,1), Edge(3,103,1), Edge(4,103,1), \n",
    "Edge(5,104,1))"
   ]
  },
  {
   "cell_type": "markdown",
   "metadata": {},
   "source": [
    "<div style=\"width:100%;\">\n",
    "    <div style=\"width:15%;float:left;font-size:20px;background-color:#557aba;color:#eff3f9;padding:6px;font-wight:bold;text-align:center;\">\n",
    "    Question 3\n",
    "    </div>\n",
    "    <div style=\"width:85%;float:right;font-size:16px;background-color:#dce4f2;font-wight:normal;color:black;padding:6px;\">\n",
    "   \n",
    "   Count the number of vertices and edges \n",
    "   \n",
    "   Hint: metrosGraph.numEdges\n",
    "\n",
    "    </div>\n",
    "</div>"
   ]
  },
  {
   "cell_type": "raw",
   "metadata": {},
   "source": [
    "scala> metrosGraph.numEdges\n",
    "res9: Long = 65\n",
    "scala> metrosGraph.numVertices\n",
    "res10: Long = 93\n",
    "scala> metrosGraph.numVertices + metrosGraph.numEdges\n",
    "res12: Long = 158"
   ]
  },
  {
   "cell_type": "markdown",
   "metadata": {},
   "source": [
    "<div style=\"width:100%;\">\n",
    "    <div style=\"width:15%;float:left;font-size:20px;background-color:#557aba;color:#eff3f9;padding:6px;font-wight:bold;text-align:center;\">\n",
    "    Question 4\n",
    "    </div>\n",
    "    <div style=\"width:85%;float:right;font-size:16px;background-color:#dce4f2;font-wight:normal;color:black;padding:6px;\">\n",
    "   \n",
    "   Create a new graph and add the continents. Concatenate the three sets of nodes into a single RDD. Concatenate the two sets of edges: Report the number of edges and vertices for the new graph\n",
    "    </div>\n",
    "</div> "
   ]
  },
  {
   "cell_type": "raw",
   "metadata": {},
   "source": [
    "scala> case class Continents(override val name: String) extends PlaceNode(name)\n",
    "defined class Continents\n",
    "scala> val continent: RDD[(VertexId, PlaceNode)] = \n",
    "     | sc.textFile(\"./Data_files/continent.csv\").\n",
    "     | filter(! _.startsWith(\"#\")).\n",
    "     | map {line =>\n",
    "     | val row = line split ','\n",
    "     | (0L + row(0).toInt, Continents(row(1)))}\n",
    "continent: org.apache.spark.rdd.RDD[(org.apache.spark.graphx.VertexId, PlaceNode)] = MapPartitionsRDD[31] at map at <console>:39\n",
    "\n",
    "scala> val cclinks: RDD[Edge[Int]] = \n",
    "     | sc.textFile(\"./Data_files/country_continent.csv\").\n",
    "     | filter(! _.startsWith(\"#\")).\n",
    "     | map {line =>\n",
    "     | val row = line split ','\n",
    "     | Edge(0L + row(0).toInt, 100L + row(1).toInt, 1) }\n",
    "cclinks: org.apache.spark.rdd.RDD[org.apache.spark.graphx.Edge[Int]] = MapPartitionsRDD[35] at map at <console>:36\n",
    "\n",
    "scala> val nodes  = metros ++ countries ++ continent\n",
    "nodes: org.apache.spark.rdd.RDD[(org.apache.spark.graphx.VertexId, PlaceNode)] = UnionRDD[37] at $plus$plus at <console>:46\n",
    "\n",
    "scala> val contGraph = Graph(nodes, cclinks)\n",
    "contGraph: org.apache.spark.graphx.Graph[PlaceNode,Int] = org.apache.spark.graphx.impl.GraphImpl@15f4dffe\n",
    "\n",
    "scala> contGraph.numVertices + contGraph.numEdges\n",
    "res13: Long = 121 "
   ]
  },
  {
   "cell_type": "markdown",
   "metadata": {},
   "source": [
    "---\n",
    "Import the graph stream library: "
   ]
  },
  {
   "cell_type": "markdown",
   "metadata": {},
   "source": [
    "<pre style=\"background-color: #ebece4;padding: 10px;border-left: solid 4px orange;\">\n",
    "import org.graphstream.graph.implementations._\n",
    "</pre>"
   ]
  },
  {
   "cell_type": "markdown",
   "metadata": {},
   "source": [
    "Create a new instance of SingleGraph:"
   ]
  },
  {
   "cell_type": "markdown",
   "metadata": {},
   "source": [
    "<pre style=\"background-color: #ebece4;padding: 10px;border-left: solid 4px orange;\">\n",
    "val graph: SingleGraph = new SingleGraph(\"countriesGraph\")\n",
    "</pre>"
   ]
  },
  {
   "cell_type": "markdown",
   "metadata": {},
   "source": [
    "Setup the visual Attributes:"
   ]
  },
  {
   "cell_type": "markdown",
   "metadata": {},
   "source": [
    "<pre style=\"background-color: #ebece4;padding: 10px;border-left: solid 4px orange;\">\n",
    "graph.addAttribute(\"ui.stylesheet\",\"url(file:.//style/stylesheet)\")\n",
    "graph.addAttribute(\"ui.quality\")\n",
    "graph.addAttribute(\"ui.antialias\")</pre>"
   ]
  },
  {
   "cell_type": "markdown",
   "metadata": {},
   "source": [
    "Load the GraphX vertices into GraphStream nodes:"
   ]
  },
  {
   "cell_type": "markdown",
   "metadata": {},
   "source": [
    "<pre style=\"background-color: #ebece4;padding: 10px;border-left: solid 4px orange;\">\n",
    "for ((id:VertexId, place:PlaceNode) <- countriesGraph.vertices.collect())\n",
    "{\n",
    "val node = graph.addNode(id.toString).asInstanceOf[SingleNode]\n",
    "node.addAttribute(\"name\", place.name)\n",
    "node.addAttribute(\"ui.label\", place.name)\n",
    "if (place.isInstanceOf[Metro])\n",
    "node.addAttribute(\"ui.class\", \"metro\")\n",
    "else if(place.isInstanceOf[Country])\n",
    "node.addAttribute(\"ui.class\", \"country\")\n",
    "else if(place.isInstanceOf[Continent])\n",
    "node.addAttribute(\"ui.class\", \"continent\")\n",
    "}</pre>"
   ]
  },
  {
   "cell_type": "markdown",
   "metadata": {},
   "source": [
    "Load GraphX edges: "
   ]
  },
  {
   "cell_type": "markdown",
   "metadata": {},
   "source": [
    "<pre style=\"background-color: #ebece4;padding: 10px;border-left: solid 4px orange;\">\n",
    "for (Edge(x,y,_) &lt;- countriesGraph.edges.collect()) {\n",
    "graph.addEdge(x.toString ++ y.toString, x.toString, y.toString,\n",
    "true).asInstanceOf[AbstractEdge]\n",
    "}</pre>"
   ]
  },
  {
   "cell_type": "markdown",
   "metadata": {},
   "source": [
    "<div style=\"width:100%;\">\n",
    "    <div style=\"width:15%;float:left;font-size:20px;background-color:#557aba;color:#eff3f9;padding:6px;font-wight:bold;text-align:center;\">\n",
    "    Question 5\n",
    "    </div>\n",
    "    <div style=\"width:85%;float:right;font-size:16px;background-color:#dce4f2;font-wight:normal;color:black;padding:6px;\">\n",
    "   \n",
    "   Visualize the graph and report the num of connected components:  graph.display()\n",
    "\n",
    "    </div>\n",
    "</div>\n"
   ]
  },
  {
   "cell_type": "raw",
   "metadata": {},
   "source": [
    "scala> metrosGraph.degrees.\n",
    "     | filter { case (vid, count) => vid >= 100 }.\n",
    "     | map(t => (t._2, t._1)).\n",
    "     | groupByKey.map(t => (t._1, t._2.size)).\n",
    "     | sortBy(_._1).collect()\n",
    "res14: Array[(Int, Int)] = Array((1,18), (2,4), (3,2), (5,2), (9,1), (14,1))\n",
    "\n",
    "The number of connected components are 6. \n",
    "\n",
    "WHEN I DID COUNTRIES GRAPH HOWEVER I GOT:\n",
    "scala> countriesGraph.degrees.\n",
    "     | filter { case (vid, count) => vid >= 100 }.\n",
    "     | map(t => (t._2, t._1)).\n",
    "     | groupByKey.map(t => (t._1, t._2.size)).\n",
    "     | sortBy(_._1).collect()\n",
    "res15: Array[(Int, Int)] = Array((1,16), (2,4), (3,1), (4,1), (5,1), (6,1), (8,1), (14,2), (15,1))\n",
    "\n",
    "The number of connected component are 9. "
   ]
  },
  {
   "cell_type": "markdown",
   "metadata": {},
   "source": [
    "---\n",
    "<br>\n",
    "# <span style=\"color:#3665af\">Graph Database: Neo4j </span>\n",
    "<hr>\n",
    "\n",
    "###### Goal\n",
    "In this assignment, we will learn how to work with a graph database\n",
    "###### Prerequisites\n",
    "Install Neo4j:\n",
    "\n",
    "Downloading, Installing, and Running Neo4j at:\n",
    "\n",
    "http://www.neo4j.com/\n"
   ]
  },
  {
   "cell_type": "markdown",
   "metadata": {},
   "source": [
    "Creat a sample Graph (as an example): Attribute of node is toyNode and Attribute of relationship is ToyRelationship \n",
    "\n",
    "N1 - e1 -> N2\n",
    "\n",
    "N2 - e2 -> N3\n",
    "\n",
    "N2 - e3 -> N4\n",
    "\n",
    "N1 - e4 -> N5\n",
    "\n",
    "N4 - e5 -> N5"
   ]
  },
  {
   "cell_type": "markdown",
   "metadata": {},
   "source": [
    "<pre style=\"background-color: #ebece4;padding: 10px;border-left: solid 4px orange;\">\n",
    "create (N1:ToyNode {name: 'Tom'}) - [:ToyRelation {relationship: 'knows'}] -&gt; (N2:ToyNode {name: 'Harry'}),\n",
    "(N2) - [:ToyRelation {relationship: 'co-worker'}] -&gt; (N3:ToyNode {name: 'Julian', job: 'plumber'}),\n",
    "(N2) - [:ToyRelation {relationship: 'wife'}] -&gt; (N4:ToyNode {name: 'Michele', job: 'accountant'}),\n",
    "(N1) - [:ToyRelation {relationship: 'wife'}] -&gt; (N5:ToyNode {name: 'Josephine', job: 'manager'}),\n",
    "(N4) - [:ToyRelation {relationship: 'friend'}] -&gt; (N5)\n",
    ";</pre>"
   ]
  },
  {
   "cell_type": "markdown",
   "metadata": {},
   "source": [
    "Display the graph:"
   ]
  },
  {
   "cell_type": "markdown",
   "metadata": {},
   "source": [
    "<pre style=\"background-color: #ebece4;padding: 10px;border-left: solid 4px orange;\">\n",
    "match (n:ToyNode)-[r]-(m) return n, r, m"
   ]
  },
  {
   "cell_type": "markdown",
   "metadata": {},
   "source": [
    "This is how we select an existing single ToyNode node:"
   ]
  },
  {
   "cell_type": "markdown",
   "metadata": {},
   "source": [
    "<pre style=\"background-color: #ebece4;padding: 10px;border-left: solid 4px orange;\">\n",
    "match (n:ToyNode {name:'Julian'}) return n"
   ]
  },
  {
   "cell_type": "markdown",
   "metadata": {},
   "source": [
    "Delete only ToyNode nodes which have no edges:"
   ]
  },
  {
   "cell_type": "markdown",
   "metadata": {},
   "source": [
    "<pre style=\"background-color: #ebece4;padding: 10px;border-left: solid 4px orange;\">\n",
    "match (n:ToyNode) delete n"
   ]
  },
  {
   "cell_type": "markdown",
   "metadata": {},
   "source": [
    "Modify a Node’s Information:"
   ]
  },
  {
   "cell_type": "markdown",
   "metadata": {},
   "source": [
    "<pre style=\"background-color: #ebece4;padding: 10px;border-left: solid 4px orange;\">\n",
    "match (n:ToyNode) where n.name = 'Harry' set n.job = 'drummer'\n",
    "\n",
    "match (n:ToyNode) where n.name = 'Harry' set n.job = n.job + ['lead guitarist'] </pre>"
   ]
  },
  {
   "cell_type": "markdown",
   "metadata": {},
   "source": [
    "Load data from csv file test (source , target, distance):"
   ]
  },
  {
   "cell_type": "markdown",
   "metadata": {},
   "source": [
    "<pre style=\"background-color: #ebece4;padding: 10px;border-left: solid 4px orange;\">\n",
    "LOAD CSV WITH HEADERS FROM \"file:///C:/test.csv\" AS line\n",
    "\n",
    "MERGE (n:MyNode {Name:line.Source})\n",
    "\n",
    "MERGE (m:MyNode {Name:line.Target})\n",
    "\n",
    "MERGE (n) -[:TO {dist:line.distance}]-&gt; (m)"
   ]
  },
  {
   "cell_type": "markdown",
   "metadata": {},
   "source": [
    "<div style=\"width:100%;\">\n",
    "    <div style=\"width:15%;float:left;font-size:20px;background-color:#557aba;color:#eff3f9;padding:6px;font-wight:bold;text-align:center;\">\n",
    "    Question 1\n",
    "    </div>\n",
    "    <div style=\"width:85%;float:right;font-size:16px;background-color:#dce4f2;font-wight:normal;color:black;padding:6px;\">\n",
    "   Count the number of vertices\n",
    "\n",
    "    </div>\n",
    "</div>\n"
   ]
  },
  {
   "cell_type": "raw",
   "metadata": {},
   "source": [
    "LOAD CSV WITH HEADERS FROM \"file:///test.csv\" AS line2\n",
    "MERGE (n:MyNode {Name:line2.Source})\n",
    "MERGE (m:MyNode {Name:line2.Target})\n",
    "MERGE (n) -[:TO {dist:line2.distance}] -> (m)\n",
    "\n",
    "Added 11 labels, created 11 nodes, set 25 properties, created 14 relationships, completed after 136 ms.\n",
    "\n",
    "There are 11 vertices."
   ]
  },
  {
   "cell_type": "markdown",
   "metadata": {},
   "source": [
    "Finding triangles:"
   ]
  },
  {
   "cell_type": "markdown",
   "metadata": {},
   "source": [
    "<pre style=\"background-color: #ebece4;padding: 10px;border-left: solid 4px orange;\">\n",
    "match (a)-[:TO]-&gt;(b)-[:TO]-&gt;(c)-[:TO]-&gt;(a)\n",
    "return distinct a, b, c\n",
    "</pre>"
   ]
  },
  {
   "cell_type": "markdown",
   "metadata": {},
   "source": [
    "Finding paths between some selcted nodes:"
   ]
  },
  {
   "cell_type": "markdown",
   "metadata": {},
   "source": [
    "<pre style=\"background-color: #ebece4;padding: 10px;border-left: solid 4px orange;\">\n",
    "match p=(a)-[:TO*]-(c)\n",
    "where a.Name='H' and c.Name='P'\n",
    "return p limit 1</pre>"
   ]
  },
  {
   "cell_type": "markdown",
   "metadata": {},
   "source": [
    "Find the shortest path between selected nodes:"
   ]
  },
  {
   "cell_type": "markdown",
   "metadata": {},
   "source": [
    "<pre style=\"background-color: #ebece4;padding: 10px;border-left: solid 4px orange;\">\n",
    "match p=shortestPath((a)-[:TO*]-(c))\n",
    "where a.Name='A' and c.Name='P'\n",
    "return p, length(p) limit 1</pre>"
   ]
  },
  {
   "cell_type": "markdown",
   "metadata": {},
   "source": [
    "Find all Shortest Paths with Path Conditions:"
   ]
  },
  {
   "cell_type": "markdown",
   "metadata": {},
   "source": [
    "<pre style=\"background-color: #ebece4;padding: 10px;border-left: solid 4px orange;\">\n",
    "MATCH p = allShortestPaths((source)-[r:TO*]-&gt;(destination))\n",
    "WHERE source.Name='A' AND destination.Name = 'P' AND LENGTH(NODES(p)) &gt; 5\n",
    "RETURN EXTRACT(n IN NODES(p)| n.Name) AS Paths,length(p)\n",
    "</pre>"
   ]
  },
  {
   "cell_type": "markdown",
   "metadata": {},
   "source": [
    "Find degree histogram of the graph"
   ]
  },
  {
   "cell_type": "markdown",
   "metadata": {},
   "source": [
    "<pre style=\"background-color: #ebece4;padding: 10px;border-left: solid 4px orange;\">\n",
    "match (n:MyNode)-[r]-()\n",
    "with n as nodes, count(distinct r) as degree\n",
    "return degree, count(nodes) order by degree asc\n",
    "</pre>"
   ]
  },
  {
   "cell_type": "markdown",
   "metadata": {},
   "source": [
    "\n",
    "   \n",
    " #### Load assignment.csv file and follow these instructions in prepration for answering the following questions:\n",
    "\n",
    "   "
   ]
  },
  {
   "cell_type": "markdown",
   "metadata": {},
   "source": [
    "1. Define the node type to be TrialGene;\n",
    "2. Add a Name property to the source node and assign the OFFICIAL_SYMBOL_A column values to it;\n",
    "3. Add a Name property to the target node and assign the OFFICIAL_SYMBOL_B column values to it;\n",
    "4. Define the edge type to be AssociationType;\n",
    "5. Give each edge a property named AssociatedWith and assign the content of the column in the dataset with the heading EXPERIMENTAL_SYSTEM"
   ]
  },
  {
   "cell_type": "markdown",
   "metadata": {},
   "source": [
    "<div style=\"width:100%;\">\n",
    "    <div style=\"width:15%;float:left;font-size:20px;background-color:#557aba;color:#eff3f9;padding:6px;font-wight:bold;text-align:center;\">\n",
    "    Question 2\n",
    "    </div>\n",
    "    <div style=\"width:85%;float:right;font-size:16px;background-color:#dce4f2;font-wight:normal;color:black;padding:6px;\">\n",
    "  Count the number of vertices and edges:\n",
    "\n",
    "    </div>\n",
    "</div>"
   ]
  },
  {
   "cell_type": "raw",
   "metadata": {},
   "source": [
    "LOAD CSV WITH HEADERS FROM \"file:///assignment.csv\" AS line\n",
    "MERGE (n:TrialGene {Name:line.OFFICIAL_SYMBOL_A})\n",
    "MERGE (m:TrialGene {Name:line.OFFICIAL_SYMBOL_B})\n",
    "MERGE (n) -[:AssociationType {AssociationWith:line.EXPERIMENTAL_SYSTEM}] -> (m)\n",
    "\n",
    "Added 9656 labels, created 9656 nodes, set 56277 properties, created 46621 relationships, completed after 580297 ms.\n",
    "\n",
    "There are 9656 vertices and 46621 edges. "
   ]
  },
  {
   "cell_type": "markdown",
   "metadata": {},
   "source": [
    "<div style=\"width:100%;\">\n",
    "    <div style=\"width:15%;float:left;font-size:20px;background-color:#557aba;color:#eff3f9;padding:6px;font-wight:bold;text-align:center;\">\n",
    "    Question 3\n",
    "    </div>\n",
    "    <div style=\"width:85%;float:right;font-size:16px;background-color:#dce4f2;font-wight:normal;color:black;padding:6px;\">\n",
    "  Count how many shortest paths there are between the node named ‘BRCA1’ and the node named ‘NBR1’\n",
    "\n",
    "    </div>\n",
    "</div>"
   ]
  },
  {
   "cell_type": "raw",
   "metadata": {},
   "source": [
    "MATCH p = allShortestPaths((source)-[r:AssociationType*] ->(destination))\n",
    "WHERE source.Name='BRCA1' AND destination.Name ='NBR1' \n",
    "RETURN EXTRACT(n IN NODES(p) | n.Name) AS Paths\n",
    "\n",
    "The number of shortest paths are: 3.\n",
    "[\"BRCA1\", \"CSTF2\", \"FEZ1\", \"NBR1\"]\n",
    "[\"BRCA1\", \"CSTF2\", \"FEZ1\", \"NBR1\"]\n",
    "[\"BRCA1\", \"GTF2F1\", \"FEZ1\", \"NBR1\"]"
   ]
  },
  {
   "cell_type": "markdown",
   "metadata": {},
   "source": [
    "## Remember to include your code with your answers"
   ]
  },
  {
   "cell_type": "markdown",
   "metadata": {},
   "source": [
    " "
   ]
  }
 ],
 "metadata": {
  "kernelspec": {
   "display_name": "Python 3",
   "language": "python",
   "name": "python3"
  },
  "language_info": {
   "codemirror_mode": {
    "name": "ipython",
    "version": 3
   },
   "file_extension": ".py",
   "mimetype": "text/x-python",
   "name": "python",
   "nbconvert_exporter": "python",
   "pygments_lexer": "ipython3",
   "version": "3.6.3"
  }
 },
 "nbformat": 4,
 "nbformat_minor": 2
}
