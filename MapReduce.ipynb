{
 "cells": [
  {
   "cell_type": "markdown",
   "metadata": {},
   "source": [
    "<h1 style='text-aling:center;color:Navy'>  Big Data Systems - Laboratory 1  </h1>"
   ]
  },
  {
   "cell_type": "markdown",
   "metadata": {},
   "source": [
    "#### Topics included in this lab:\n",
    " 1) Map-Reduce (20 minutes)\n",
    " 2) Semistructured DS: Spanner DB (20 minutes)\n",
    " 3) Bigtable (20 minutes)\n",
    "\n",
    "We have allocated 15 minutes for set up and/or to address any other issues. \n",
    "\n",
    "\n",
    "This is the first Lab for the Big Data Systems course - Spring 2018.<br>\n",
    "We are covering the following topics:\n",
    "<li>Map-Reduce,</li>\n",
    "<li>Spanner and</li>\n",
    "<li>Bigtable</li>\n",
    "<br>\n",
    "The lab will have an in-class section as well as a homework section. <br>\n",
    "You need to submit your in-class notebook before the end of the class. For the homework section, please refer to Canvas for the due date.\n",
    "\n",
    "\n",
    " "
   ]
  },
  {
   "cell_type": "markdown",
   "metadata": {},
   "source": [
    "# <span style=\"color:#3665af\">Section #2: Spanner </span><span style=\"font-size:15px\">(Estimated time: 20 minutes) </span>\n",
    "\n",
    "<hr>\n",
    "In this section we will practice how to use Google's Spanner database. \n",
    "## Pre-reqs:\n",
    "Your Google cloud account should be ready to deploy services.<br>\n",
    "\n",
    "### Create a Spanner Instance.\n",
    "\n",
    "- Create a spanner instace, and annotate the Instance ID. \n",
    "- We will use lab1-section2 as instance id in this lab; if you are using another id, you need to change in the connection settings. \n",
    "- For this test, configuring one node will suffice. \n",
    "\n",
    "### Installing the Python Client. \n",
    "We need to have the google-cloud library installed in our system.<br>\n",
    "If you are using windows/mac, go to the anaconda navigator, then Environments. Click the arrow next to _base (root)_ and select Open terminal. <br>\n",
    "Then execute the following pip command to install the client library. "
   ]
  },
  {
   "cell_type": "markdown",
   "metadata": {},
   "source": [
    "``` bash\n",
    "$> pip install google-cloud\n",
    "```"
   ]
  },
  {
   "cell_type": "markdown",
   "metadata": {},
   "source": [
    "### Getting the Service Account File\n",
    "As mentioned in the cloud setup instructions, you need to generate a token file so you will be able to connect to spanner. Refer to that document for help. <br>\n",
    "Here is the summary of the steps. \n",
    "1. Go to APIS & Services\n",
    "2. Go to Credentials\n",
    "3. Select Create Credentials, and choose Service account key.\n",
    "4. Select Compute Engine default service account and Key type JSON. Then Create. \n",
    "5. Pick the file that was automatically downloaded, and store it in your BSD directory. \n"
   ]
  },
  {
   "cell_type": "markdown",
   "metadata": {},
   "source": [
    "## Hands on..."
   ]
  },
  {
   "cell_type": "code",
   "execution_count": null,
   "metadata": {
    "collapsed": true
   },
   "outputs": [],
   "source": [
    "# Imports the Google Cloud Client Library.\n",
    "from google.cloud import spanner\n"
   ]
  },
  {
   "cell_type": "code",
   "execution_count": 16,
   "metadata": {
    "collapsed": true
   },
   "outputs": [],
   "source": [
    "JSON_SERVICE_KEY = '/Users/crystinrodrick/Desktop/BigDataSystems-Spring2018-9b5e2d973ae2.json'"
   ]
  },
  {
   "cell_type": "markdown",
   "metadata": {},
   "source": [
    "You can learn more about creating instances and using Spanner with Python at [Google Documentation](https://cloud.google.com/spanner/docs/getting-started/python/)\n"
   ]
  },
  {
   "cell_type": "code",
   "execution_count": 17,
   "metadata": {
    "collapsed": true
   },
   "outputs": [],
   "source": [
    "def explicit():\n",
    "    ## Function to connect to spanner\n",
    "    from google.cloud import storage\n",
    "\n",
    "    # Explicitly use service account credentials by specifying the private key\n",
    "    # file.\n",
    "    storage_client = storage.Client.from_service_account_json(JSON_SERVICE_KEY)\n",
    "\n",
    "    # Make an authenticated API request\n",
    "    buckets = list(storage_client.list_buckets())\n",
    "    print(buckets)"
   ]
  },
  {
   "cell_type": "markdown",
   "metadata": {},
   "source": [
    "You can get help about authentication at [Google Documentation](https://cloud.google.com/docs/authentication/production#auth-cloud-explicit-python)\n"
   ]
  },
  {
   "cell_type": "markdown",
   "metadata": {},
   "source": [
    "## Warm up\n",
    "<hr>"
   ]
  },
  {
   "cell_type": "code",
   "execution_count": 20,
   "metadata": {},
   "outputs": [
    {
     "name": "stdout",
     "output_type": "stream",
     "text": [
      "[datetime.date(2018, 2, 28)]\n"
     ]
    },
    {
     "name": "stderr",
     "output_type": "stream",
     "text": [
      "/Users/crystinrodrick/anaconda3/lib/python3.6/site-packages/ipykernel_launcher.py:22: DeprecationWarning: generator 'StreamedResultSet.__iter__' raised StopIteration\n"
     ]
    }
   ],
   "source": [
    "\n",
    "# Instantiate a client.\n",
    "spanner_client = spanner.Client.from_service_account_json(JSON_SERVICE_KEY)\n",
    "#spanner_client = spanner.Client()\n",
    "\n",
    "# Your Cloud Spanner instance ID.\n",
    "instance_id = 'lab1-section2'\n",
    "# Get a Cloud Spanner instance by ID.\n",
    "instance = spanner_client.instance(instance_id)\n",
    "\n",
    "# Your Cloud Spanner database ID.\n",
    "database_id = 'lab-db'           # If you did not create the database already, createit using the cloud console\n",
    "\n",
    "# Get a Cloud Spanner database by ID.\n",
    "database = instance.database(database_id)\n",
    "\n",
    "# Execute a simple SQL statement.\n",
    "with database.snapshot() as snapshot:\n",
    "    results = snapshot.execute_sql('SELECT current_date')\n",
    "\n",
    "    for row in results:\n",
    "        print(row)"
   ]
  },
  {
   "cell_type": "markdown",
   "metadata": {},
   "source": [
    "If you didn't recevie an error and the current date was displayed, it means that at this point we're connected to our Spanner database.<rb>\n",
    "\n",
    "### Let's create a couple of tables\n",
    "This may take a minute. If you use your google cloud dashboard, you can see the two new tables as you refresh the page."
   ]
  },
  {
   "cell_type": "code",
   "execution_count": 33,
   "metadata": {},
   "outputs": [
    {
     "name": "stdout",
     "output_type": "stream",
     "text": [
      "Waiting for operation to complete...\n",
      "Created tables in database lab-db on instance lab1-section2\n"
     ]
    }
   ],
   "source": [
    "operation = database.update_ddl(ddl_statements=[\n",
    "    '''CREATE TABLE Singer (\n",
    "        SingerId     INT64 NOT NULL,\n",
    "        FirstName    STRING(1024),\n",
    "        LastName     STRING(1024),\n",
    "        SingerInfo   BYTES(MAX)\n",
    "    ) PRIMARY KEY (SingerId)'''\n",
    "    ,\n",
    "    '''CREATE TABLE Album (\n",
    "        SingerId     INT64 NOT NULL,\n",
    "        AlbumId      INT64 NOT NULL,\n",
    "        AlbumTitle   STRING(MAX)\n",
    "    ) PRIMARY KEY (SingerId, AlbumId),\n",
    "      INTERLEAVE IN PARENT Singer ON DELETE CASCADE'''\n",
    "])\n",
    "\n",
    "#operation = database.create()\n",
    "\n",
    "print('Waiting for operation to complete...')\n",
    "operation.result()\n",
    "\n",
    "print('Created tables in database {} on instance {}'.format( database_id, instance_id))"
   ]
  },
  {
   "cell_type": "markdown",
   "metadata": {},
   "source": [
    "### QUESTION:\n",
    "**_In which line the command that creates the database is actually executed on Spanner? \n",
    "** \n"
   ]
  },
  {
   "cell_type": "markdown",
   "metadata": {},
   "source": [
    "On the command operation.result(). This is because the database gets structured during the  update_ddl command but is created when you call for the result. "
   ]
  },
  {
   "cell_type": "markdown",
   "metadata": {},
   "source": [
    "### Let's insert some data"
   ]
  },
  {
   "cell_type": "code",
   "execution_count": 34,
   "metadata": {},
   "outputs": [
    {
     "name": "stdout",
     "output_type": "stream",
     "text": [
      "Inserted data.\n"
     ]
    }
   ],
   "source": [
    "\n",
    "\"\"\"Inserts sample data into the given database.\n",
    "   The database and table must already exist.\n",
    "\"\"\"\n",
    "\n",
    "with database.batch() as batch:\n",
    "    batch.insert(\n",
    "        table='Singers',\n",
    "        columns=('SingerId', 'FirstName', 'LastName',),\n",
    "        values=[\n",
    "            (1, u'Marc', u'Richards'),\n",
    "            (2, u'Catalina', u'Smith'),\n",
    "            (3, u'Alice', u'Trentor'),\n",
    "            (4, u'Lea', u'Martin'),\n",
    "            (5, u'David', u'Lomond')])\n",
    "    batch.commit\n",
    "    \n",
    "    batch.insert(\n",
    "        table='Albums',\n",
    "        columns=('SingerId', 'AlbumId', 'AlbumTitle',),\n",
    "        values=[\n",
    "            (1, 1, u'Total Junk'),\n",
    "            (1, 2, u'Go, Go, Go'),\n",
    "            (2, 1, u'Green'),\n",
    "            (2, 2, u'Forever Hold Your Peace'),\n",
    "            (2, 3, u'Terrified')])\n",
    "    batch.commit\n",
    "print('Inserted data.')"
   ]
  },
  {
   "cell_type": "markdown",
   "metadata": {},
   "source": [
    "### QUESTION:\n",
    "**_How many statements were executed in Spanner?_** Explain briefly. "
   ]
  },
  {
   "cell_type": "markdown",
   "metadata": {},
   "source": [
    "#### <span style=\"color:red\">Two statements were executed in Spanner. The two being batch.commit. The reason being is that inserting all of the data moves the data into Spanner, once it commits then it is executed in Spanner. </span>"
   ]
  },
  {
   "cell_type": "markdown",
   "metadata": {},
   "source": [
    "### Querying the database"
   ]
  },
  {
   "cell_type": "code",
   "execution_count": 49,
   "metadata": {},
   "outputs": [
    {
     "data": {
      "text/plain": [
       "<google.cloud.spanner_v1.streamed.StreamedResultSet at 0x110f55f28>"
      ]
     },
     "metadata": {},
     "output_type": "display_data"
    },
    {
     "data": {
      "text/plain": [
       "[1, 1, 'Total Junk']"
      ]
     },
     "metadata": {},
     "output_type": "display_data"
    },
    {
     "name": "stdout",
     "output_type": "stream",
     "text": [
      "SingerId: 1, AlbumId: 1, AlbumTitle: Total Junk\n"
     ]
    },
    {
     "data": {
      "text/plain": [
       "[1, 2, 'Go, Go, Go']"
      ]
     },
     "metadata": {},
     "output_type": "display_data"
    },
    {
     "name": "stdout",
     "output_type": "stream",
     "text": [
      "SingerId: 1, AlbumId: 2, AlbumTitle: Go, Go, Go\n"
     ]
    },
    {
     "data": {
      "text/plain": [
       "[2, 1, 'Green']"
      ]
     },
     "metadata": {},
     "output_type": "display_data"
    },
    {
     "name": "stdout",
     "output_type": "stream",
     "text": [
      "SingerId: 2, AlbumId: 1, AlbumTitle: Green\n"
     ]
    },
    {
     "data": {
      "text/plain": [
       "[2, 2, 'Forever Hold Your Peace']"
      ]
     },
     "metadata": {},
     "output_type": "display_data"
    },
    {
     "name": "stdout",
     "output_type": "stream",
     "text": [
      "SingerId: 2, AlbumId: 2, AlbumTitle: Forever Hold Your Peace\n"
     ]
    },
    {
     "data": {
      "text/plain": [
       "[2, 3, 'Terrified']"
      ]
     },
     "metadata": {},
     "output_type": "display_data"
    },
    {
     "name": "stdout",
     "output_type": "stream",
     "text": [
      "SingerId: 2, AlbumId: 3, AlbumTitle: Terrified\n"
     ]
    },
    {
     "name": "stderr",
     "output_type": "stream",
     "text": [
      "/Users/crystinrodrick/anaconda3/lib/python3.6/site-packages/ipykernel_launcher.py:10: DeprecationWarning: generator 'StreamedResultSet.__iter__' raised StopIteration\n",
      "  # Remove the CWD from sys.path while we load stuff.\n"
     ]
    }
   ],
   "source": [
    "\"\"\"Queries sample data from the database using SQL.\"\"\"\n",
    "\n",
    "\n",
    "with database.snapshot() as snapshot:\n",
    "    results = snapshot.execute_sql(\n",
    "        'SELECT SingerId, AlbumId, AlbumTitle FROM Albums')\n",
    "    \n",
    "    display(results)\n",
    "    \n",
    "    for row in results:\n",
    "        display(row)\n",
    "        #print(row[0])\n",
    "        \n",
    "        print('SingerId: {}, AlbumId: {}, AlbumTitle: {}'.format(*row))\n",
    "        #print(\"SingerId: \",row[0],\", AlbumId: \",row[1],\", AlbumTitle: \",row[2], )\n",
    "    #print(results)"
   ]
  },
  {
   "cell_type": "markdown",
   "metadata": {},
   "source": [
    "### QUESTIONS:\n",
    "1. **What kind of object is _results_?**\n",
    "2. **What kind of object is _row_?**\n",
    "3. **How is row being accessed?** _**Tip**_: take a look at the commented line."
   ]
  },
  {
   "cell_type": "markdown",
   "metadata": {},
   "source": [
    "#### <span style=\"color:red\"> --- Answer HERE --- </span>\n",
    "1. Results are all the singers with the albums they created. They come out as a list. \n",
    "2. Row is an instance of information pertaining to each singer and each album they created with the name of the album.\n",
    "3. The row is being accessed by SingerID, Album, and AlbumTitle."
   ]
  },
  {
   "cell_type": "code",
   "execution_count": 50,
   "metadata": {},
   "outputs": [
    {
     "data": {
      "text/plain": [
       "[1, 1, 'Total Junk']"
      ]
     },
     "metadata": {},
     "output_type": "display_data"
    },
    {
     "name": "stdout",
     "output_type": "stream",
     "text": [
      "SingerId: 1, AlbumId: 1, AlbumTitle: Total Junk\n"
     ]
    },
    {
     "data": {
      "text/plain": [
       "[1, 2, 'Go, Go, Go']"
      ]
     },
     "metadata": {},
     "output_type": "display_data"
    },
    {
     "name": "stdout",
     "output_type": "stream",
     "text": [
      "SingerId: 1, AlbumId: 2, AlbumTitle: Go, Go, Go\n"
     ]
    },
    {
     "data": {
      "text/plain": [
       "[2, 1, 'Green']"
      ]
     },
     "metadata": {},
     "output_type": "display_data"
    },
    {
     "name": "stdout",
     "output_type": "stream",
     "text": [
      "SingerId: 2, AlbumId: 1, AlbumTitle: Green\n"
     ]
    },
    {
     "data": {
      "text/plain": [
       "[2, 2, 'Forever Hold Your Peace']"
      ]
     },
     "metadata": {},
     "output_type": "display_data"
    },
    {
     "name": "stdout",
     "output_type": "stream",
     "text": [
      "SingerId: 2, AlbumId: 2, AlbumTitle: Forever Hold Your Peace\n"
     ]
    },
    {
     "data": {
      "text/plain": [
       "[2, 3, 'Terrified']"
      ]
     },
     "metadata": {},
     "output_type": "display_data"
    },
    {
     "name": "stdout",
     "output_type": "stream",
     "text": [
      "SingerId: 2, AlbumId: 3, AlbumTitle: Terrified\n"
     ]
    },
    {
     "name": "stderr",
     "output_type": "stream",
     "text": [
      "/Users/crystinrodrick/anaconda3/lib/python3.6/site-packages/ipykernel_launcher.py:10: DeprecationWarning: generator 'StreamedResultSet.__iter__' raised StopIteration\n",
      "  # Remove the CWD from sys.path while we load stuff.\n"
     ]
    }
   ],
   "source": [
    "\"\"\"Reads sample data from the database.\"\"\"\n",
    "\n",
    "with database.snapshot() as snapshot:\n",
    "    keyset = spanner.KeySet(all_=True)\n",
    "    results = snapshot.read(\n",
    "        table='Albums',\n",
    "        columns=('SingerId', 'AlbumId', 'AlbumTitle',),\n",
    "        keyset=keyset,)\n",
    "\n",
    "    for row in results:\n",
    "        display(row)\n",
    "        print('SingerId: {}, AlbumId: {}, AlbumTitle: {}'.format(*row))\n",
    "    #print(results)"
   ]
  },
  {
   "cell_type": "markdown",
   "metadata": {},
   "source": [
    "### QUESTIONS:\n",
    "**_What is the difference between the first and second part of the code?_**"
   ]
  },
  {
   "cell_type": "markdown",
   "metadata": {},
   "source": [
    "#### <span style=\"color:red\"> The difference between the first and second part of the code is that the first part uses a query whereas the second part just reads the data.  </span>\n"
   ]
  },
  {
   "cell_type": "markdown",
   "metadata": {},
   "source": [
    "## Let's load some interesting data\n",
    "<hr>"
   ]
  },
  {
   "cell_type": "code",
   "execution_count": 51,
   "metadata": {
    "collapsed": true
   },
   "outputs": [],
   "source": [
    "import pandas as pd\n",
    "import datetime\n",
    "from time import time"
   ]
  },
  {
   "cell_type": "code",
   "execution_count": 215,
   "metadata": {},
   "outputs": [
    {
     "name": "stdout",
     "output_type": "stream",
     "text": [
      "[datetime.date(2018, 2, 28)]\n"
     ]
    },
    {
     "name": "stderr",
     "output_type": "stream",
     "text": [
      "/Users/crystinrodrick/anaconda3/lib/python3.6/site-packages/ipykernel_launcher.py:21: DeprecationWarning: generator 'StreamedResultSet.__iter__' raised StopIteration\n"
     ]
    }
   ],
   "source": [
    "\n",
    "# Instantiate a client.\n",
    "#spanner_client = spanner.Client()\n",
    "spanner_client = spanner.Client.from_service_account_json(JSON_SERVICE_KEY)\n",
    "# Your Cloud Spanner instance ID.\n",
    "instance_id = 'lab1-section2'\n",
    "\n",
    "# Get a Cloud Spanner instance by ID.\n",
    "instance = spanner_client.instance(instance_id)\n",
    "\n",
    "# Your Cloud Spanner database ID.\n",
    "database_id = 'lab-db2'                             ## Create new Database\n",
    "\n",
    "# Get a Cloud Spanner database by ID.\n",
    "database = instance.database(database_id)\n",
    "\n",
    "# Execute a simple SQL statement.\n",
    "with database.snapshot() as snapshot:\n",
    "    results = snapshot.execute_sql('SELECT current_date')\n",
    "\n",
    "    for row in results:\n",
    "        print(row)"
   ]
  },
  {
   "cell_type": "code",
   "execution_count": 176,
   "metadata": {},
   "outputs": [
    {
     "name": "stdout",
     "output_type": "stream",
     "text": [
      "Waiting for operation to complete...\n",
      "Created tables in database lab-db2 on instance lab1-section2\n",
      "run time: 23.31500792503357\n"
     ]
    }
   ],
   "source": [
    "start_time=time()\n",
    "operation =database.update_ddl(ddl_statements=[\n",
    "    \"\"\"CREATE TABLE RadiationMeasurement\n",
    "        (\n",
    "           CapturedTime timestamp,\n",
    "           Latitude float64,\n",
    "           Longitude float64,\n",
    "           Value float64,\n",
    "           Unit String(2048),\n",
    "           Location String(2048),\n",
    "           DeviceID String(2048),\n",
    "           MD5Sum String(2048),\n",
    "           Height String(2048),\n",
    "           Surface String(2048),\n",
    "           Radiation String(2048),\n",
    "           UploadedTime timestamp,\n",
    "           LoaderID float64\n",
    "        )PRIMARY KEY (CapturedTime,Latitude,Longitude,Location,UploadedTime,MD5Sum)\"\"\"\n",
    "])\n",
    "\n",
    "# operation = database.create()\n",
    "\n",
    "print('Waiting for operation to complete...')\n",
    "operation.result()\n",
    "\n",
    "print('Created tables in database {} on instance {}'.format(\n",
    "    database_id, instance_id))\n",
    "\n",
    "end_time=time()\n",
    "\n",
    "print (\"run time:\",end_time-start_time)"
   ]
  },
  {
   "cell_type": "code",
   "execution_count": 177,
   "metadata": {
    "collapsed": true
   },
   "outputs": [],
   "source": [
    "df_Measures        = pd.read_csv(\"/Users/crystinrodrick/Desktop/radiation.measurements.sample.csv\")"
   ]
  },
  {
   "cell_type": "code",
   "execution_count": 216,
   "metadata": {},
   "outputs": [
    {
     "name": "stdout",
     "output_type": "stream",
     "text": [
      "<class 'pandas.core.frame.DataFrame'>\n",
      "RangeIndex: 4999 entries, 0 to 4998\n",
      "Data columns (total 13 columns):\n",
      "Captured Time    4999 non-null object\n",
      "Latitude         4999 non-null float64\n",
      "Longitude        4999 non-null float64\n",
      "Value            4999 non-null float64\n",
      "Unit             4999 non-null object\n",
      "Location Name    39 non-null object\n",
      "Device ID        4338 non-null float64\n",
      "MD5Sum           4999 non-null object\n",
      "Height           3969 non-null float64\n",
      "Surface          0 non-null float64\n",
      "Radiation        0 non-null float64\n",
      "Uploaded Time    4999 non-null object\n",
      "Loader ID        661 non-null float64\n",
      "dtypes: float64(8), object(5)\n",
      "memory usage: 507.8+ KB\n"
     ]
    }
   ],
   "source": [
    "df_Measures.info()"
   ]
  },
  {
   "cell_type": "code",
   "execution_count": 217,
   "metadata": {},
   "outputs": [
    {
     "data": {
      "text/plain": [
       "'Row: 0, Timestamp: 2020-02-03 17:00:00 Lat/Lon:37.507551666667/139.94117'"
      ]
     },
     "metadata": {},
     "output_type": "display_data"
    },
    {
     "data": {
      "text/plain": [
       "'Row: 1, Timestamp: 2020-02-03 11:00:00 Lat/Lon:37.505445/0.016666666666667'"
      ]
     },
     "metadata": {},
     "output_type": "display_data"
    },
    {
     "data": {
      "text/plain": [
       "'Row: 2, Timestamp: 2020-02-03 11:00:00 Lat/Lon:37.50725/139.94'"
      ]
     },
     "metadata": {},
     "output_type": "display_data"
    },
    {
     "data": {
      "text/plain": [
       "'Row: 3, Timestamp: 2020-02-01 03:00:00 Lat/Lon:34.066486666667/-118.89521666667'"
      ]
     },
     "metadata": {},
     "output_type": "display_data"
    },
    {
     "data": {
      "text/plain": [
       "'Row: 4, Timestamp: 2020-02-01 01:00:00 Lat/Lon:37.673233333333/140.06666666667'"
      ]
     },
     "metadata": {},
     "output_type": "display_data"
    },
    {
     "data": {
      "text/plain": [
       "[(0, datetime.datetime(2020, 2, 3, 17, 0)),\n",
       " (1, datetime.datetime(2020, 2, 3, 11, 0)),\n",
       " (2, datetime.datetime(2020, 2, 3, 11, 0)),\n",
       " (3, datetime.datetime(2020, 2, 1, 3, 0)),\n",
       " (4, datetime.datetime(2020, 2, 1, 1, 0))]"
      ]
     },
     "execution_count": 217,
     "metadata": {},
     "output_type": "execute_result"
    }
   ],
   "source": [
    "myData=[]\n",
    "for index,row in df_Measures[0:5].iterrows():\n",
    "    aDateTime = datetime.datetime.strptime(row[\"Captured Time\"], '%Y-%m-%d %H:%M:%S')\n",
    "    display('Row: {}, Timestamp: {} Lat/Lon:{}/{}'.format(index,aDateTime,row[\"Latitude\"],row[\"Longitude\"]))\n",
    "    myData.append( (index,aDateTime)  )\n",
    "myData"
   ]
  },
  {
   "cell_type": "code",
   "execution_count": 233,
   "metadata": {},
   "outputs": [
    {
     "data": {
      "text/plain": [
       "'Row: 0, Timestamp: 2020-02-03 17:00:00 Lat/Lon:37.507551666667/139.94117 Loc: nan MD5Sum: 6449bbf7ce3b30a8e05bc23a0bc40644 Uploaded Time: 2020-02-03 17:00:00'"
      ]
     },
     "metadata": {},
     "output_type": "display_data"
    },
    {
     "data": {
      "text/plain": [
       "'Row: 1, Timestamp: 2020-02-03 11:00:00 Lat/Lon:37.505445/0.016666666666667 Loc: nan MD5Sum: a166df14f60b61095693684fc0f89c54 Uploaded Time: 2020-02-03 11:00:00'"
      ]
     },
     "metadata": {},
     "output_type": "display_data"
    },
    {
     "data": {
      "text/plain": [
       "'Row: 2, Timestamp: 2020-02-03 11:00:00 Lat/Lon:37.50725/139.94 Loc: nan MD5Sum: 2fa8bccef282796bcdc297679c4db5b3 Uploaded Time: 2020-02-03 11:00:00'"
      ]
     },
     "metadata": {},
     "output_type": "display_data"
    },
    {
     "data": {
      "text/plain": [
       "'Row: 3, Timestamp: 2020-02-01 03:00:00 Lat/Lon:34.066486666667/-118.89521666667 Loc: nan MD5Sum: da79c21520d3ff3f5ed010a70f4a6d29 Uploaded Time: 2020-02-01 03:00:00'"
      ]
     },
     "metadata": {},
     "output_type": "display_data"
    },
    {
     "data": {
      "text/plain": [
       "'Row: 4, Timestamp: 2020-02-01 01:00:00 Lat/Lon:37.673233333333/140.06666666667 Loc: nan MD5Sum: 6cdf740a2304a850185f74c0c4a4b878 Uploaded Time: 2020-02-01 01:00:00'"
      ]
     },
     "metadata": {},
     "output_type": "display_data"
    },
    {
     "data": {
      "text/plain": [
       "'Row: 5, Timestamp: 2020-02-01 01:00:00 Lat/Lon:37.674781666667/140.079895 Loc: nan MD5Sum: 6666348e83cbf76e3508f473c302df77 Uploaded Time: 2020-02-01 01:00:00'"
      ]
     },
     "metadata": {},
     "output_type": "display_data"
    },
    {
     "data": {
      "text/plain": [
       "'Row: 6, Timestamp: 2020-01-12 19:00:00 Lat/Lon:37.517901666667/139.92547833333 Loc: nan MD5Sum: 5399edc68f223aba0e651fd5c8bdd933 Uploaded Time: 2020-01-12 19:00:00'"
      ]
     },
     "metadata": {},
     "output_type": "display_data"
    },
    {
     "data": {
      "text/plain": [
       "'Row: 7, Timestamp: 2020-01-12 19:00:00 Lat/Lon:37.737123333333/140.72685333333 Loc: nan MD5Sum: 42482c7028b1d843e2565b6c452057be Uploaded Time: 2020-01-12 19:00:00'"
      ]
     },
     "metadata": {},
     "output_type": "display_data"
    },
    {
     "data": {
      "text/plain": [
       "'Row: 8, Timestamp: 2020-01-12 19:00:00 Lat/Lon:37.539609999999996/140.11657666667 Loc: nan MD5Sum: e6f1f188b207a47d5482a12a1494d694 Uploaded Time: 2020-01-12 19:00:00'"
      ]
     },
     "metadata": {},
     "output_type": "display_data"
    },
    {
     "data": {
      "text/plain": [
       "'Row: 9, Timestamp: 2020-01-12 19:00:00 Lat/Lon:37.75588/140.70341166667 Loc: nan MD5Sum: 29ab5e66f6bcd461f61db388616c3f39 Uploaded Time: 2020-01-12 19:00:00'"
      ]
     },
     "metadata": {},
     "output_type": "display_data"
    },
    {
     "name": "stdout",
     "output_type": "stream",
     "text": [
      "Inserted data.\n"
     ]
    }
   ],
   "source": [
    "#     ****************************************************************\n",
    "#     TO-DO: Write here a while/for to insert the Primary key data for the first 10 rows. \n",
    "#     ****************************************************************\n",
    "\n",
    "# --Hints:\n",
    "#     Adapt the code from the sample. \n",
    "#     Generate an array inserting tuples (you should use an array and the function append )\n",
    "value = []\n",
    "myData=[]\n",
    "for index,row in df_Measures[0:10].iterrows():\n",
    "    \n",
    "    aDateTime = datetime.datetime.strptime(row[\"Captured Time\"], '%Y-%m-%d %H:%M:%S')\n",
    "    x = '{},{},{},{},{},{}'.format(aDateTime,row[\"Latitude\"],row[\"Longitude\"],row[\"Location Name\"],row[\"MD5Sum\"], row[\"Uploaded Time\"])\n",
    "    display('Row: {}, Timestamp: {} Lat/Lon:{}/{} Loc: {} MD5Sum: {} Uploaded Time: {}'.format(index,aDateTime,row[\"Latitude\"],row[\"Longitude\"],row[\"Location Name\"],row[\"MD5Sum\"], row[\"Uploaded Time\"]))\n",
    "    myData.append( (index,aDateTime) )\n",
    "    value.append(row)\n",
    "    \n",
    "myData\n",
    "\n",
    "with database.batch() as batch:\n",
    "    batch.insert(\n",
    "        table='RadiationMeasurement',\n",
    "        columns=('Latitude', 'Longitude','Location', 'MD5Sum'), \n",
    "        values=[\n",
    "            ( 37.507551666667, 139.94117, u'nan', u'6449bbf7ce3b30a8e05bc23a0bc40644'),\n",
    "        (37.505445, 0.01666666666666, u'nan', u'a166df14f60b61095693684fc0f89c54' ),\n",
    "        (37.50725, 139.94, u'nan', u'2fa8bccef282796bcdc297679c4db5b3'),\n",
    "        (34.066486666667, -118.89521666667, u'nan', u'da79c21520d3ff3f5ed010a70f4a6d29'),\n",
    "        (37.673233333333,140.06666666667,u'nan', u'6cdf740a2304a850185f74c0c4a4b878'),\n",
    "        (37.674781666667,140.079895, u'nan', u'6666348e83cbf76e3508f473c302df77'),\n",
    "        (37.517901666667, 139.92547833333, u'nan', u'5399edc68f223aba0e651fd5c8bdd933'),\n",
    "        (37.737123333333, 140.72685333333, u'nan', u'42482c7028b1d843e2565b6c452057be'),\n",
    "        (37.539609999999996, 140.11657666667, u'nan', u'e6f1f188b207a47d5482a12a1494d694'),\n",
    "        (37.75588, 140.70341166667, u'nan', u'29ab5e66f6bcd461f61db388616c3f39')])\n",
    "            \n",
    "    batch.commit\n",
    "print('Inserted data.')\n"
   ]
  },
  {
   "cell_type": "markdown",
   "metadata": {},
   "source": [
    "# <span style=\"color:#5DB664\">DELETE YOUR SPANNER INSTANCE AS WHEN YOU FINNISHED </span>"
   ]
  },
  {
   "cell_type": "markdown",
   "metadata": {},
   "source": [
    "<hr><BR>"
   ]
  },
  {
   "cell_type": "markdown",
   "metadata": {},
   "source": [
    "# <span style=\"color:RED\">Homework: </span> Yelp Dataset\n",
    "<hr>\n",
    "Similar to the example above, we are going to be using the Yelp competition dataset available [here](https://www.kaggle.com/yelp-dataset/yelp-dataset/data). <br>\n",
    "You should:\n",
    "1. Download the dataset to your machine.\n",
    "2. Create a new database.\n",
    "3. Create the tables necessary, with the proper interleaving configuration to store the business and reviews.\n",
    "4. Load the yelp_business dataset.\n",
    "5. Load 10% of the yelp_review dataset.\n",
    "\n",
    "Hints:\n",
    "- You probably want to do several batchs. You can do that by using the **[start:end]** operator for the dataframes. \n",
    "- You may need to review the documentation for the [Spanner SQL](https://cloud.google.com/spanner/docs/query-syntax)\n",
    "\n",
    "## Questions:\n",
    "1. Report the time for loading each dataset.\n",
    "2. Compare the time to load the rows for the business and the reviews datasets.\n",
    "3. List the top 10 better/most rated businesses in Colorado. To simplify this, let's assume that the best rated business is the one with the higher sum of ratings. \n",
    "\n"
   ]
  },
  {
   "cell_type": "code",
   "execution_count": 23,
   "metadata": {
    "collapsed": true
   },
   "outputs": [],
   "source": [
    "# Imports the Google Cloud Client Library.\n",
    "from google.cloud import spanner"
   ]
  },
  {
   "cell_type": "markdown",
   "metadata": {},
   "source": [
    "<hr style=\"border: 3px double navy;\" ><br><br><br>"
   ]
  },
  {
   "cell_type": "code",
   "execution_count": 24,
   "metadata": {
    "collapsed": true
   },
   "outputs": [],
   "source": [
    "JSON_SERVICE_KEY = '/Users/crystinrodrick/Desktop/BigDataSystems-Spring2018-35b206318c5f.json'"
   ]
  },
  {
   "cell_type": "code",
   "execution_count": 25,
   "metadata": {
    "collapsed": true
   },
   "outputs": [],
   "source": [
    "def explicit():\n",
    "    ## Function to connect to spanner\n",
    "    from google.cloud import storage\n",
    "\n",
    "    # Explicitly use service account credentials by specifying the private key\n",
    "    # file.\n",
    "    storage_client = storage.Client.from_service_account_json(JSON_SERVICE_KEY)\n",
    "\n",
    "    # Make an authenticated API request\n",
    "    buckets = list(storage_client.list_buckets())\n",
    "    print(buckets)"
   ]
  },
  {
   "cell_type": "code",
   "execution_count": 26,
   "metadata": {},
   "outputs": [
    {
     "name": "stdout",
     "output_type": "stream",
     "text": [
      "[datetime.date(2018, 3, 1)]\n"
     ]
    },
    {
     "name": "stderr",
     "output_type": "stream",
     "text": [
      "/Users/crystinrodrick/anaconda3/lib/python3.6/site-packages/ipykernel_launcher.py:21: DeprecationWarning: generator 'StreamedResultSet.__iter__' raised StopIteration\n"
     ]
    }
   ],
   "source": [
    "# Instantiate a client.\n",
    "spanner_client = spanner.Client.from_service_account_json(JSON_SERVICE_KEY)\n",
    "#spanner_client = spanner.Client()\n",
    "\n",
    "# Your Cloud Spanner instance ID.\n",
    "instance_id = 'lab1-section2'\n",
    "\n",
    "# Get a Cloud Spanner instance by ID.\n",
    "instance = spanner_client.instance(instance_id)\n",
    "\n",
    "# Your Cloud Spanner database ID.\n",
    "database_id = 'lab-db'           # If you did not create the database already, createit using the cloud console\n",
    "\n",
    "# Get a Cloud Spanner database by ID.\n",
    "database = instance.database(database_id)\n",
    "\n",
    "# Execute a simple SQL statement.\n",
    "with database.snapshot() as snapshot:\n",
    "    results = snapshot.execute_sql('SELECT current_date')\n",
    "\n",
    "    for row in results:\n",
    "        print(row)"
   ]
  },
  {
   "cell_type": "code",
   "execution_count": 92,
   "metadata": {},
   "outputs": [
    {
     "name": "stdout",
     "output_type": "stream",
     "text": [
      "Waiting for operation to complete...\n",
      "Created tables in database lab-db on instance lab1-section2\n"
     ]
    }
   ],
   "source": [
    "operation = database.update_ddl(ddl_statements=[\n",
    "    '''CREATE TABLE BusiNess (\n",
    "        business_id  STRING(1024),\n",
    "        name         STRING(1024),\n",
    "        neighborhood STRING(1024),\n",
    "        address      STRING(1024),\n",
    "        city         STRING(1024),\n",
    "        state        STRING(1024),\n",
    "        postal_code  STRING(1024),\n",
    "        latitude     float64,\n",
    "        longitude    float64,\n",
    "        stars        float64,\n",
    "        review_count INT64,\n",
    "        is_open      INT64,\n",
    "        categories   STRING(2048)\n",
    "    ) PRIMARY KEY (business_id)'''\n",
    "    ,\n",
    "    '''CREATE TABLE ReView (\n",
    "        review_id     STRING(1024),\n",
    "        user_id       STRING(1024),\n",
    "        business_id   STRING(1024),\n",
    "        stars         INT64,\n",
    "        date          STRING(1024),\n",
    "        text          STRING(2048),\n",
    "        useful        INT64,\n",
    "        funny         INT64,\n",
    "        cool          INT64\n",
    "    ) PRIMARY KEY (business_id, review_id),\n",
    "      INTERLEAVE IN PARENT BusiNess ON DELETE CASCADE'''\n",
    "])\n",
    "\n",
    "#operation = database.create()\n",
    "\n",
    "print('Waiting for operation to complete...')\n",
    "operation.result()\n",
    "\n",
    "print('Created tables in database {} on instance {}'.format( database_id, instance_id))"
   ]
  },
  {
   "cell_type": "code",
   "execution_count": 93,
   "metadata": {
    "collapsed": true
   },
   "outputs": [],
   "source": [
    "import pandas as pd\n",
    "df1 = pd.read_csv(\"/Users/crystinrodrick/Desktop/yelp_review.csv\", encoding ='utf-8', nrows=500000) #read_csv(..., skiprows=1000000, nrows=999999)"
   ]
  },
  {
   "cell_type": "code",
   "execution_count": 94,
   "metadata": {},
   "outputs": [
    {
     "name": "stdout",
     "output_type": "stream",
     "text": [
      "<class 'pandas.core.frame.DataFrame'>\n",
      "RangeIndex: 500000 entries, 0 to 499999\n",
      "Data columns (total 9 columns):\n",
      "review_id      500000 non-null object\n",
      "user_id        500000 non-null object\n",
      "business_id    500000 non-null object\n",
      "stars          500000 non-null int64\n",
      "date           500000 non-null object\n",
      "text           500000 non-null object\n",
      "useful         500000 non-null int64\n",
      "funny          500000 non-null int64\n",
      "cool           500000 non-null int64\n",
      "dtypes: int64(4), object(5)\n",
      "memory usage: 34.3+ MB\n",
      "Created tables in database lab-db on instance lab1-section2\n",
      "run time: 0.24693894386291504\n"
     ]
    }
   ],
   "source": [
    "from time import time\n",
    "start_time=time()\n",
    "df1.info()\n",
    "\n",
    "print('Created tables in database {} on instance {}'.format(\n",
    "    database_id, instance_id))\n",
    "\n",
    "end_time=time()\n",
    "\n",
    "print (\"run time:\", end_time-start_time)"
   ]
  },
  {
   "cell_type": "code",
   "execution_count": 95,
   "metadata": {
    "collapsed": true
   },
   "outputs": [],
   "source": [
    "df2 = pd.read_csv(\"/Users/crystinrodrick/Desktop/yelp_business.csv\", encoding = 'utf-8')"
   ]
  },
  {
   "cell_type": "code",
   "execution_count": 96,
   "metadata": {},
   "outputs": [
    {
     "name": "stdout",
     "output_type": "stream",
     "text": [
      "<class 'pandas.core.frame.DataFrame'>\n",
      "RangeIndex: 174567 entries, 0 to 174566\n",
      "Data columns (total 13 columns):\n",
      "business_id     174567 non-null object\n",
      "name            174567 non-null object\n",
      "neighborhood    68015 non-null object\n",
      "address         174567 non-null object\n",
      "city            174566 non-null object\n",
      "state           174566 non-null object\n",
      "postal_code     173944 non-null object\n",
      "latitude        174566 non-null float64\n",
      "longitude       174566 non-null float64\n",
      "stars           174567 non-null float64\n",
      "review_count    174567 non-null int64\n",
      "is_open         174567 non-null int64\n",
      "categories      174567 non-null object\n",
      "dtypes: float64(3), int64(2), object(8)\n",
      "memory usage: 17.3+ MB\n",
      "Created tables in database lab-db on instance lab1-section2\n",
      "run time: 0.11225199699401855\n"
     ]
    }
   ],
   "source": [
    "start_time=time()\n",
    "df2.info()\n",
    "print('Created tables in database {} on instance {}'.format(\n",
    "    database_id, instance_id))\n",
    "\n",
    "end_time=time()\n",
    "\n",
    "print (\"run time:\",end_time-start_time)"
   ]
  },
  {
   "cell_type": "code",
   "execution_count": 97,
   "metadata": {},
   "outputs": [
    {
     "name": "stdout",
     "output_type": "stream",
     "text": [
      "Inserted batch:  1\n",
      "Inserted batch:  2\n",
      "Inserted batch:  3\n",
      "Inserted batch:  4\n",
      "Inserted batch:  5\n",
      "Inserted batch:  6\n",
      "Inserted batch:  7\n",
      "Inserted batch:  8\n",
      "Inserted batch:  9\n",
      "Inserted batch:  10\n",
      "Inserted batch:  11\n",
      "Inserted batch:  12\n",
      "Inserted batch:  13\n",
      "Inserted batch:  14\n",
      "Inserted batch:  15\n",
      "Inserted batch:  16\n",
      "Inserted batch:  17\n",
      "Inserted batch:  18\n",
      "Inserted batch:  19\n",
      "Inserted batch:  20\n",
      "Inserted batch:  21\n",
      "Inserted batch:  22\n",
      "Inserted batch:  23\n",
      "Inserted batch:  24\n",
      "Inserted batch:  25\n",
      "Inserted batch:  26\n",
      "Inserted batch:  27\n",
      "Inserted batch:  28\n",
      "Inserted batch:  29\n",
      "Inserted batch:  30\n",
      "Inserted batch:  31\n",
      "Inserted batch:  32\n",
      "Inserted batch:  33\n",
      "Inserted batch:  34\n",
      "Inserted batch:  35\n",
      "Inserted batch:  36\n",
      "Inserted batch:  37\n",
      "Inserted batch:  38\n",
      "Inserted batch:  39\n",
      "Inserted batch:  40\n",
      "Inserted batch:  41\n",
      "Inserted batch:  42\n",
      "Inserted batch:  43\n",
      "Inserted batch:  44\n",
      "Inserted batch:  45\n",
      "Inserted batch:  46\n",
      "Inserted batch:  47\n",
      "Inserted batch:  48\n",
      "Inserted batch:  49\n",
      "Inserted batch:  50\n",
      "Inserted batch:  51\n",
      "Inserted batch:  52\n",
      "Inserted batch:  53\n",
      "Inserted batch:  54\n",
      "Inserted batch:  55\n",
      "Inserted batch:  56\n",
      "Inserted batch:  57\n",
      "Inserted batch:  58\n",
      "Inserted batch:  59\n",
      "Inserted batch:  60\n",
      "Inserted batch:  61\n",
      "Inserted batch:  62\n",
      "Inserted batch:  63\n",
      "Inserted batch:  64\n",
      "Inserted batch:  65\n",
      "Inserted batch:  66\n",
      "Inserted batch:  67\n",
      "Inserted batch:  68\n",
      "Inserted batch:  69\n",
      "Inserted batch:  70\n",
      "Inserted batch:  71\n",
      "Inserted batch:  72\n",
      "Inserted batch:  73\n",
      "Inserted batch:  74\n",
      "Inserted batch:  75\n",
      "Inserted batch:  76\n",
      "Inserted batch:  77\n",
      "Inserted batch:  78\n",
      "Inserted batch:  79\n",
      "Inserted batch:  80\n",
      "Inserted batch:  81\n",
      "Inserted batch:  82\n",
      "Inserted batch:  83\n",
      "Inserted batch:  84\n",
      "Inserted batch:  85\n",
      "Inserted batch:  86\n",
      "Inserted batch:  87\n",
      "Inserted batch:  88\n",
      "Inserted batch:  89\n",
      "Inserted batch:  90\n",
      "Inserted batch:  91\n",
      "Inserted batch:  92\n",
      "Inserted batch:  93\n",
      "Inserted batch:  94\n",
      "Inserted batch:  95\n",
      "Inserted batch:  96\n",
      "Inserted batch:  97\n",
      "Inserted batch:  98\n",
      "Inserted batch:  99\n",
      "Inserted batch:  100\n",
      "Inserted batch:  101\n",
      "Inserted batch:  102\n",
      "Inserted batch:  103\n",
      "Inserted batch:  104\n",
      "Inserted batch:  105\n",
      "Inserted batch:  106\n",
      "Inserted batch:  107\n",
      "Inserted batch:  108\n",
      "Inserted batch:  109\n",
      "Inserted batch:  110\n",
      "Inserted batch:  111\n",
      "Inserted batch:  112\n",
      "Inserted batch:  113\n",
      "Inserted batch:  114\n",
      "Inserted batch:  115\n",
      "Inserted batch:  116\n",
      "Inserted batch:  117\n",
      "Inserted batch:  118\n",
      "Inserted batch:  119\n",
      "Inserted batch:  120\n",
      "Inserted batch:  121\n",
      "Inserted batch:  122\n",
      "Inserted batch:  123\n",
      "Inserted batch:  124\n",
      "Inserted batch:  125\n",
      "Inserted batch:  126\n",
      "Inserted batch:  127\n",
      "Inserted batch:  128\n",
      "Inserted batch:  129\n",
      "Inserted batch:  130\n",
      "Inserted batch:  131\n",
      "Inserted batch:  132\n",
      "Inserted batch:  133\n",
      "Inserted batch:  134\n",
      "Inserted batch:  135\n",
      "Inserted batch:  136\n",
      "Inserted batch:  137\n",
      "Inserted batch:  138\n",
      "Inserted batch:  139\n",
      "Inserted batch:  140\n",
      "Inserted batch:  141\n",
      "Inserted batch:  142\n",
      "Inserted batch:  143\n",
      "Inserted batch:  144\n",
      "Inserted batch:  145\n",
      "Inserted batch:  146\n",
      "Inserted batch:  147\n",
      "Inserted batch:  148\n",
      "Inserted batch:  149\n",
      "Inserted batch:  150\n",
      "Inserted batch:  151\n",
      "Inserted batch:  152\n",
      "Inserted batch:  153\n",
      "Inserted batch:  154\n",
      "Inserted batch:  155\n",
      "Inserted batch:  156\n",
      "Inserted batch:  157\n",
      "Inserted batch:  158\n",
      "Inserted batch:  159\n",
      "Inserted batch:  160\n",
      "Inserted batch:  161\n",
      "Inserted batch:  162\n",
      "Inserted batch:  163\n",
      "Inserted batch:  164\n",
      "Inserted batch:  165\n",
      "Inserted batch:  166\n",
      "Inserted batch:  167\n",
      "Inserted batch:  168\n",
      "Inserted batch:  169\n",
      "Inserted batch:  170\n",
      "Inserted batch:  171\n",
      "Inserted batch:  172\n",
      "Inserted batch:  173\n",
      "Inserted batch:  174\n",
      "Inserted batch:  175\n",
      "Inserted batch:  176\n",
      "Inserted batch:  177\n",
      "Inserted batch:  178\n",
      "Inserted batch:  179\n",
      "Inserted batch:  180\n",
      "Inserted batch:  181\n",
      "Inserted batch:  182\n",
      "Inserted batch:  183\n",
      "Inserted batch:  184\n",
      "Inserted batch:  185\n",
      "Inserted batch:  186\n",
      "Inserted batch:  187\n",
      "Inserted batch:  188\n",
      "Inserted batch:  189\n",
      "Inserted batch:  190\n",
      "Inserted batch:  191\n",
      "Inserted batch:  192\n",
      "Inserted batch:  193\n",
      "Inserted batch:  194\n",
      "Inserted batch:  195\n",
      "Inserted batch:  196\n",
      "Inserted batch:  197\n",
      "Inserted batch:  198\n",
      "Inserted batch:  199\n",
      "Inserted batch:  200\n",
      "Inserted batch:  201\n",
      "Inserted batch:  202\n",
      "Inserted batch:  203\n",
      "Inserted batch:  204\n",
      "Inserted batch:  205\n",
      "Inserted batch:  206\n",
      "Inserted batch:  207\n",
      "Inserted batch:  208\n",
      "Inserted batch:  209\n",
      "Inserted batch:  210\n",
      "Inserted batch:  211\n",
      "Inserted batch:  212\n",
      "Inserted batch:  213\n",
      "Inserted batch:  214\n",
      "Inserted batch:  215\n",
      "Inserted batch:  216\n",
      "Inserted batch:  217\n",
      "Inserted batch:  218\n",
      "Inserted batch:  219\n",
      "Inserted batch:  220\n",
      "Inserted batch:  221\n",
      "Inserted batch:  222\n",
      "Inserted batch:  223\n",
      "Inserted batch:  224\n",
      "Inserted batch:  225\n",
      "Inserted batch:  226\n",
      "Inserted batch:  227\n",
      "Inserted batch:  228\n",
      "Inserted batch:  229\n",
      "Inserted batch:  230\n",
      "Inserted batch:  231\n",
      "Inserted batch:  232\n",
      "Inserted batch:  233\n",
      "Inserted batch:  234\n",
      "Inserted batch:  235\n",
      "Inserted batch:  236\n",
      "Inserted batch:  237\n",
      "Inserted batch:  238\n",
      "Inserted batch:  239\n",
      "Inserted batch:  240\n",
      "Inserted batch:  241\n",
      "Inserted batch:  242\n",
      "Inserted batch:  243\n",
      "Inserted batch:  244\n",
      "Inserted batch:  245\n",
      "Inserted batch:  246\n",
      "Inserted batch:  247\n",
      "Inserted batch:  248\n",
      "Inserted batch:  249\n",
      "Inserted batch:  250\n",
      "Inserted batch:  251\n",
      "Inserted batch:  252\n",
      "Inserted batch:  253\n",
      "Inserted batch:  254\n",
      "Inserted batch:  255\n",
      "Inserted batch:  256\n",
      "Inserted batch:  257\n",
      "Inserted batch:  258\n",
      "Inserted batch:  259\n",
      "Inserted batch:  260\n",
      "Inserted batch:  261\n",
      "Inserted batch:  262\n",
      "Inserted batch:  263\n",
      "Inserted batch:  264\n",
      "Inserted batch:  265\n",
      "Inserted batch:  266\n",
      "Inserted batch:  267\n",
      "Inserted batch:  268\n",
      "Inserted batch:  269\n",
      "Inserted batch:  270\n",
      "Inserted batch:  271\n",
      "Inserted batch:  272\n",
      "Inserted batch:  273\n",
      "Inserted batch:  274\n",
      "Inserted batch:  275\n",
      "Inserted batch:  276\n",
      "Inserted batch:  277\n",
      "Inserted batch:  278\n",
      "Inserted batch:  279\n",
      "Inserted batch:  280\n",
      "Inserted batch:  281\n",
      "Inserted batch:  282\n",
      "Inserted batch:  283\n",
      "Inserted batch:  284\n",
      "Inserted batch:  285\n",
      "Inserted batch:  286\n",
      "Inserted batch:  287\n",
      "Inserted batch:  288\n",
      "Inserted batch:  289\n",
      "Inserted batch:  290\n",
      "Inserted batch:  291\n",
      "Inserted batch:  292\n",
      "Inserted batch:  293\n",
      "Inserted batch:  294\n",
      "Inserted batch:  295\n",
      "Inserted batch:  296\n",
      "Inserted batch:  297\n",
      "Inserted batch:  298\n",
      "Inserted batch:  299\n",
      "Inserted batch:  300\n",
      "Inserted batch:  301\n",
      "Inserted batch:  302\n",
      "Inserted batch:  303\n",
      "Inserted batch:  304\n",
      "Inserted batch:  305\n",
      "Inserted batch:  306\n",
      "Inserted batch:  307\n",
      "Inserted batch:  308\n",
      "Inserted batch:  309\n",
      "Inserted batch:  310\n",
      "Inserted batch:  311\n",
      "Inserted batch:  312\n",
      "Inserted batch:  313\n",
      "Inserted batch:  314\n",
      "Inserted batch:  315\n",
      "Inserted batch:  316\n",
      "Inserted batch:  317\n",
      "Inserted batch:  318\n",
      "Inserted batch:  319\n",
      "Inserted batch:  320\n",
      "Inserted batch:  321\n",
      "Inserted batch:  322\n",
      "Inserted batch:  323\n",
      "Inserted batch:  324\n",
      "Inserted batch:  325\n",
      "Inserted batch:  326\n",
      "Inserted batch:  327\n",
      "Inserted batch:  328\n",
      "Inserted batch:  329\n",
      "Inserted batch:  330\n",
      "Inserted batch:  331\n",
      "Inserted batch:  332\n",
      "Inserted batch:  333\n",
      "Inserted batch:  334\n",
      "Inserted batch:  335\n",
      "Inserted batch:  336\n",
      "Inserted batch:  337\n",
      "Inserted batch:  338\n",
      "Inserted batch:  339\n",
      "Inserted batch:  340\n",
      "Inserted batch:  341\n",
      "Inserted batch:  342\n",
      "Inserted batch:  343\n",
      "Inserted batch:  344\n",
      "Inserted batch:  345\n",
      "Inserted batch:  346\n",
      "Inserted batch:  347\n",
      "Inserted batch:  348\n",
      "Inserted batch:  349\n",
      "Inserted batch:  350\n",
      "Inserted batch:  351\n",
      "Inserted batch:  352\n",
      "Inserted batch:  353\n",
      "Inserted batch:  354\n",
      "Inserted batch:  355\n",
      "Inserted batch:  356\n",
      "Inserted batch:  357\n",
      "Inserted batch:  358\n",
      "Inserted batch:  359\n",
      "Inserted batch:  360\n",
      "Inserted batch:  361\n",
      "Inserted batch:  362\n",
      "Inserted batch:  363\n",
      "Inserted batch:  364\n",
      "Inserted batch:  365\n",
      "Inserted batch:  366\n",
      "Inserted batch:  367\n",
      "Inserted batch:  368\n",
      "Inserted batch:  369\n",
      "Inserted batch:  370\n",
      "Inserted batch:  371\n",
      "Inserted batch:  372\n",
      "Inserted batch:  373\n",
      "Inserted batch:  374\n",
      "Inserted batch:  375\n",
      "Inserted batch:  376\n",
      "Inserted batch:  377\n",
      "Inserted batch:  378\n",
      "Inserted batch:  379\n",
      "Inserted batch:  380\n",
      "Inserted batch:  381\n",
      "Inserted batch:  382\n",
      "Inserted batch:  383\n",
      "Inserted batch:  384\n",
      "Inserted batch:  385\n",
      "Inserted batch:  386\n",
      "Inserted batch:  387\n",
      "Inserted batch:  388\n",
      "Inserted batch:  389\n",
      "Inserted batch:  390\n",
      "Inserted batch:  391\n",
      "Inserted batch:  392\n",
      "Inserted batch:  393\n",
      "Inserted batch:  394\n",
      "Inserted batch:  395\n",
      "Inserted batch:  396\n",
      "Inserted batch:  397\n",
      "Inserted batch:  398\n",
      "Inserted batch:  399\n"
     ]
    },
    {
     "name": "stdout",
     "output_type": "stream",
     "text": [
      "Inserted batch:  400\n",
      "Inserted batch:  401\n",
      "Inserted batch:  402\n",
      "Inserted batch:  403\n",
      "Inserted batch:  404\n",
      "Inserted batch:  405\n",
      "Inserted batch:  406\n",
      "Inserted batch:  407\n",
      "Inserted batch:  408\n",
      "Inserted batch:  409\n",
      "Inserted batch:  410\n",
      "Inserted batch:  411\n",
      "Inserted batch:  412\n",
      "Inserted batch:  413\n",
      "Inserted batch:  414\n",
      "Inserted batch:  415\n",
      "Inserted batch:  416\n",
      "Inserted batch:  417\n",
      "Inserted batch:  418\n",
      "Inserted batch:  419\n",
      "Inserted batch:  420\n",
      "Inserted batch:  421\n",
      "Inserted batch:  422\n",
      "Inserted batch:  423\n",
      "Inserted batch:  424\n",
      "Inserted batch:  425\n",
      "Inserted batch:  426\n",
      "Inserted batch:  427\n",
      "Inserted batch:  428\n",
      "Inserted batch:  429\n",
      "Inserted batch:  430\n",
      "Inserted batch:  431\n",
      "Inserted batch:  432\n",
      "Inserted batch:  433\n",
      "Inserted batch:  434\n",
      "Inserted batch:  435\n",
      "Inserted batch:  436\n",
      "Inserted batch:  437\n",
      "Inserted batch:  438\n",
      "Inserted batch:  439\n",
      "Inserted batch:  440\n",
      "Inserted batch:  441\n",
      "Inserted batch:  442\n",
      "Inserted batch:  443\n",
      "Inserted batch:  444\n",
      "Inserted batch:  445\n",
      "Inserted batch:  446\n",
      "Inserted batch:  447\n",
      "Inserted batch:  448\n",
      "Inserted batch:  449\n",
      "Inserted batch:  450\n",
      "Inserted batch:  451\n",
      "Inserted batch:  452\n",
      "Inserted batch:  453\n",
      "Inserted batch:  454\n",
      "Inserted batch:  455\n",
      "Inserted batch:  456\n",
      "Inserted batch:  457\n",
      "Inserted batch:  458\n",
      "Inserted batch:  459\n",
      "Inserted batch:  460\n",
      "Inserted batch:  461\n",
      "Inserted batch:  462\n",
      "Inserted batch:  463\n",
      "Inserted batch:  464\n",
      "Inserted batch:  465\n",
      "Inserted batch:  466\n",
      "Inserted batch:  467\n",
      "Inserted batch:  468\n",
      "Inserted batch:  469\n",
      "Inserted batch:  470\n",
      "Inserted batch:  471\n",
      "Inserted batch:  472\n",
      "Inserted batch:  473\n",
      "Inserted batch:  474\n",
      "Inserted batch:  475\n",
      "Inserted batch:  476\n",
      "Inserted batch:  477\n",
      "Inserted batch:  478\n",
      "Inserted batch:  479\n",
      "Inserted batch:  480\n",
      "Inserted batch:  481\n",
      "Inserted batch:  482\n",
      "Inserted batch:  483\n",
      "Inserted batch:  484\n",
      "Inserted batch:  485\n",
      "Inserted batch:  486\n",
      "Inserted batch:  487\n",
      "Inserted batch:  488\n",
      "Inserted batch:  489\n",
      "Inserted batch:  490\n",
      "Inserted batch:  491\n",
      "Inserted batch:  492\n",
      "Inserted batch:  493\n",
      "Inserted batch:  494\n",
      "Inserted batch:  495\n",
      "Inserted batch:  496\n",
      "Inserted batch:  497\n",
      "Inserted batch:  498\n",
      "Inserted batch:  499\n",
      "Inserted batch:  500\n",
      "Inserted batch:  501\n",
      "Inserted batch:  502\n",
      "Inserted batch:  503\n",
      "Inserted batch:  504\n",
      "Inserted batch:  505\n",
      "Inserted batch:  506\n",
      "Inserted batch:  507\n",
      "Inserted batch:  508\n",
      "Inserted batch:  509\n",
      "Inserted batch:  510\n",
      "Inserted batch:  511\n",
      "Inserted batch:  512\n",
      "Inserted batch:  513\n",
      "Inserted batch:  514\n",
      "Inserted batch:  515\n",
      "Inserted batch:  516\n",
      "Inserted batch:  517\n",
      "Inserted batch:  518\n",
      "Inserted batch:  519\n",
      "Inserted batch:  520\n",
      "Inserted batch:  521\n",
      "Inserted batch:  522\n",
      "Inserted batch:  523\n",
      "Inserted batch:  524\n",
      "Inserted batch:  525\n",
      "Inserted batch:  526\n",
      "Inserted batch:  527\n",
      "Inserted batch:  528\n",
      "Inserted batch:  529\n",
      "Inserted batch:  530\n",
      "Inserted batch:  531\n",
      "Inserted batch:  532\n",
      "Inserted batch:  533\n",
      "Inserted batch:  534\n",
      "Inserted batch:  535\n",
      "Inserted batch:  536\n",
      "Inserted batch:  537\n",
      "Inserted batch:  538\n",
      "Inserted batch:  539\n",
      "Inserted batch:  540\n",
      "Inserted batch:  541\n",
      "Inserted batch:  542\n",
      "Inserted batch:  543\n",
      "Inserted batch:  544\n",
      "Inserted batch:  545\n",
      "Inserted batch:  546\n",
      "Inserted batch:  547\n",
      "Inserted batch:  548\n",
      "Inserted batch:  549\n",
      "Inserted batch:  550\n",
      "Inserted batch:  551\n",
      "Inserted batch:  552\n",
      "Inserted batch:  553\n",
      "Inserted batch:  554\n",
      "Inserted batch:  555\n",
      "Inserted batch:  556\n",
      "Inserted batch:  557\n",
      "Inserted batch:  558\n",
      "Inserted batch:  559\n",
      "Inserted batch:  560\n",
      "Inserted batch:  561\n",
      "Inserted batch:  562\n",
      "Inserted batch:  563\n",
      "Inserted batch:  564\n",
      "Inserted batch:  565\n",
      "Inserted batch:  566\n",
      "Inserted batch:  567\n",
      "Inserted batch:  568\n",
      "Inserted batch:  569\n",
      "Inserted batch:  570\n",
      "Inserted batch:  571\n",
      "Inserted batch:  572\n",
      "Inserted batch:  573\n",
      "Inserted batch:  574\n",
      "Inserted batch:  575\n",
      "Inserted batch:  576\n",
      "Inserted batch:  577\n",
      "Inserted batch:  578\n",
      "Inserted batch:  579\n",
      "Inserted batch:  580\n",
      "Inserted batch:  581\n",
      "Inserted batch:  582\n",
      "Inserted batch:  583\n",
      "Inserted batch:  584\n",
      "Inserted batch:  585\n",
      "Inserted batch:  586\n",
      "Inserted batch:  587\n",
      "Inserted batch:  588\n",
      "Inserted batch:  589\n",
      "Inserted batch:  590\n",
      "Inserted batch:  591\n",
      "Inserted batch:  592\n",
      "Inserted batch:  593\n",
      "Inserted batch:  594\n",
      "Inserted batch:  595\n",
      "Inserted batch:  596\n",
      "Inserted batch:  597\n",
      "Inserted batch:  598\n",
      "Inserted batch:  599\n",
      "Inserted batch:  600\n",
      "Inserted batch:  601\n",
      "Inserted batch:  602\n",
      "Inserted batch:  603\n",
      "Inserted batch:  604\n",
      "Inserted batch:  605\n",
      "Inserted batch:  606\n",
      "Inserted batch:  607\n",
      "Inserted batch:  608\n",
      "Inserted batch:  609\n",
      "Inserted batch:  610\n",
      "Inserted batch:  611\n",
      "Inserted batch:  612\n",
      "Inserted batch:  613\n",
      "Inserted batch:  614\n",
      "Inserted batch:  615\n",
      "Inserted batch:  616\n",
      "Inserted batch:  617\n",
      "Inserted batch:  618\n",
      "Inserted batch:  619\n",
      "Inserted batch:  620\n",
      "Inserted batch:  621\n",
      "Inserted batch:  622\n",
      "Inserted batch:  623\n",
      "Inserted batch:  624\n",
      "Inserted batch:  625\n",
      "Inserted batch:  626\n",
      "Inserted batch:  627\n",
      "Inserted batch:  628\n",
      "Inserted batch:  629\n",
      "Inserted batch:  630\n",
      "Inserted batch:  631\n",
      "Inserted batch:  632\n",
      "Inserted batch:  633\n",
      "Inserted batch:  634\n",
      "Inserted batch:  635\n",
      "Inserted batch:  636\n",
      "Inserted batch:  637\n",
      "Inserted batch:  638\n",
      "Inserted batch:  639\n",
      "Inserted batch:  640\n",
      "Inserted batch:  641\n",
      "Inserted batch:  642\n",
      "Inserted batch:  643\n",
      "Inserted batch:  644\n",
      "Inserted batch:  645\n",
      "Inserted batch:  646\n",
      "Inserted batch:  647\n",
      "Inserted batch:  648\n",
      "Inserted batch:  649\n",
      "Inserted batch:  650\n",
      "Inserted batch:  651\n",
      "Inserted batch:  652\n",
      "Inserted batch:  653\n",
      "Inserted batch:  654\n",
      "Inserted batch:  655\n",
      "Inserted batch:  656\n",
      "Inserted batch:  657\n",
      "Inserted batch:  658\n",
      "Inserted batch:  659\n",
      "Inserted batch:  660\n",
      "Inserted batch:  661\n",
      "Inserted batch:  662\n",
      "Inserted batch:  663\n",
      "Inserted batch:  664\n",
      "Inserted batch:  665\n",
      "Inserted batch:  666\n",
      "Inserted batch:  667\n",
      "Inserted batch:  668\n",
      "Inserted batch:  669\n",
      "Inserted batch:  670\n",
      "Inserted batch:  671\n",
      "Inserted batch:  672\n",
      "Inserted batch:  673\n",
      "Inserted batch:  674\n",
      "Inserted batch:  675\n",
      "Inserted batch:  676\n",
      "Inserted batch:  677\n",
      "Inserted batch:  678\n",
      "Inserted batch:  679\n",
      "Inserted batch:  680\n",
      "Inserted batch:  681\n",
      "Inserted batch:  682\n",
      "Inserted batch:  683\n",
      "Inserted batch:  684\n",
      "Inserted batch:  685\n",
      "Inserted batch:  686\n",
      "Inserted batch:  687\n",
      "Inserted batch:  688\n",
      "Inserted batch:  689\n",
      "Inserted batch:  690\n",
      "Inserted batch:  691\n",
      "Inserted batch:  692\n",
      "Inserted batch:  693\n",
      "Inserted batch:  694\n",
      "Inserted batch:  695\n",
      "Inserted batch:  696\n",
      "Inserted batch:  697\n",
      "Inserted batch:  698\n",
      "Inserted batch:  699\n",
      "Inserted batch:  700\n",
      "Inserted batch:  701\n",
      "Inserted batch:  702\n",
      "Inserted batch:  703\n",
      "Inserted batch:  704\n",
      "Inserted batch:  705\n",
      "Inserted batch:  706\n",
      "Inserted batch:  707\n",
      "Inserted batch:  708\n",
      "Inserted batch:  709\n",
      "Inserted batch:  710\n",
      "Inserted batch:  711\n",
      "Inserted batch:  712\n",
      "Inserted batch:  713\n",
      "Inserted batch:  714\n",
      "Inserted batch:  715\n",
      "Inserted batch:  716\n",
      "Inserted batch:  717\n",
      "Inserted batch:  718\n",
      "Inserted batch:  719\n",
      "Inserted batch:  720\n",
      "Inserted batch:  721\n",
      "Inserted batch:  722\n",
      "Inserted batch:  723\n",
      "Inserted batch:  724\n",
      "Inserted batch:  725\n",
      "Inserted batch:  726\n",
      "Inserted batch:  727\n",
      "Inserted batch:  728\n",
      "Inserted batch:  729\n",
      "Inserted batch:  730\n",
      "Inserted batch:  731\n",
      "Inserted batch:  732\n",
      "Inserted batch:  733\n",
      "Inserted batch:  734\n",
      "Inserted batch:  735\n",
      "Inserted batch:  736\n",
      "Inserted batch:  737\n",
      "Inserted batch:  738\n",
      "Inserted batch:  739\n",
      "Inserted batch:  740\n",
      "Inserted batch:  741\n",
      "Inserted batch:  742\n",
      "Inserted batch:  743\n",
      "Inserted batch:  744\n",
      "Inserted batch:  745\n",
      "Inserted batch:  746\n",
      "Inserted batch:  747\n",
      "Inserted batch:  748\n",
      "Inserted batch:  749\n",
      "Inserted batch:  750\n",
      "Inserted batch:  751\n",
      "Inserted batch:  752\n",
      "Inserted batch:  753\n",
      "Inserted batch:  754\n",
      "Inserted batch:  755\n",
      "Inserted batch:  756\n",
      "Inserted batch:  757\n",
      "Inserted batch:  758\n",
      "Inserted batch:  759\n",
      "Inserted batch:  760\n",
      "Inserted batch:  761\n",
      "Inserted batch:  762\n",
      "Inserted batch:  763\n",
      "Inserted batch:  764\n",
      "Inserted batch:  765\n",
      "Inserted batch:  766\n",
      "Inserted batch:  767\n",
      "Inserted batch:  768\n",
      "Inserted batch:  769\n",
      "Inserted batch:  770\n",
      "Inserted batch:  771\n",
      "Inserted batch:  772\n",
      "Inserted batch:  773\n",
      "Inserted batch:  774\n",
      "Inserted batch:  775\n",
      "Inserted batch:  776\n",
      "Inserted batch:  777\n",
      "Inserted batch:  778\n",
      "Inserted batch:  779\n",
      "Inserted batch:  780\n",
      "Inserted batch:  781\n",
      "Inserted batch:  782\n",
      "Inserted batch:  783\n",
      "Inserted batch:  784\n",
      "Inserted batch:  785\n",
      "Inserted batch:  786\n",
      "Inserted batch:  787\n",
      "Inserted batch:  788\n",
      "Inserted batch:  789\n",
      "Inserted batch:  790\n",
      "Inserted batch:  791\n"
     ]
    },
    {
     "name": "stdout",
     "output_type": "stream",
     "text": [
      "Inserted batch:  792\n",
      "Inserted batch:  793\n",
      "Inserted batch:  794\n",
      "Inserted batch:  795\n",
      "Inserted batch:  796\n",
      "Inserted batch:  797\n",
      "Inserted batch:  798\n",
      "Inserted batch:  799\n",
      "Inserted batch:  800\n",
      "Inserted batch:  801\n",
      "Inserted batch:  802\n",
      "Inserted batch:  803\n",
      "Inserted batch:  804\n",
      "Inserted batch:  805\n",
      "Inserted batch:  806\n",
      "Inserted batch:  807\n",
      "Inserted batch:  808\n",
      "Inserted batch:  809\n",
      "Inserted batch:  810\n",
      "Inserted batch:  811\n",
      "Inserted batch:  812\n",
      "Inserted batch:  813\n",
      "Inserted batch:  814\n",
      "Inserted batch:  815\n",
      "Inserted batch:  816\n",
      "Inserted batch:  817\n",
      "Inserted batch:  818\n",
      "Inserted batch:  819\n",
      "Inserted batch:  820\n",
      "Inserted batch:  821\n",
      "Inserted batch:  822\n",
      "Inserted batch:  823\n",
      "Inserted batch:  824\n",
      "Inserted batch:  825\n",
      "Inserted batch:  826\n",
      "Inserted batch:  827\n",
      "Inserted batch:  828\n",
      "Inserted batch:  829\n",
      "Inserted batch:  830\n",
      "Inserted batch:  831\n",
      "Inserted batch:  832\n",
      "Inserted batch:  833\n",
      "Inserted batch:  834\n",
      "Inserted batch:  835\n",
      "Inserted batch:  836\n",
      "Inserted batch:  837\n",
      "Inserted batch:  838\n",
      "Inserted batch:  839\n",
      "Inserted batch:  840\n",
      "Inserted batch:  841\n",
      "Inserted batch:  842\n",
      "Inserted batch:  843\n",
      "Inserted batch:  844\n",
      "Inserted batch:  845\n",
      "Inserted batch:  846\n",
      "Inserted batch:  847\n",
      "Inserted batch:  848\n",
      "Inserted batch:  849\n",
      "Inserted batch:  850\n",
      "Inserted batch:  851\n",
      "Inserted batch:  852\n",
      "Inserted batch:  853\n",
      "Inserted batch:  854\n",
      "Inserted batch:  855\n",
      "Inserted batch:  856\n",
      "Inserted batch:  857\n",
      "Inserted batch:  858\n",
      "Inserted batch:  859\n",
      "Inserted batch:  860\n",
      "Inserted batch:  861\n",
      "Inserted batch:  862\n",
      "Inserted batch:  863\n",
      "Inserted batch:  864\n",
      "Inserted batch:  865\n",
      "Inserted batch:  866\n",
      "Inserted batch:  867\n",
      "Inserted batch:  868\n",
      "Inserted batch:  869\n",
      "Inserted batch:  870\n",
      "Inserted batch:  871\n",
      "Inserted batch:  872\n",
      "Inserted batch:  873\n",
      "Inserted batch:  874\n",
      "Inserted batch:  875\n",
      "Inserted batch:  876\n",
      "Inserted batch:  877\n",
      "Inserted batch:  878\n",
      "Inserted batch:  879\n",
      "Inserted batch:  880\n",
      "Inserted batch:  881\n",
      "Inserted batch:  882\n",
      "Inserted batch:  883\n",
      "Inserted batch:  884\n",
      "Inserted batch:  885\n",
      "Inserted batch:  886\n",
      "Inserted batch:  887\n",
      "Inserted batch:  888\n",
      "Inserted batch:  889\n",
      "Inserted batch:  890\n",
      "Inserted batch:  891\n",
      "Inserted batch:  892\n",
      "Inserted batch:  893\n",
      "Inserted batch:  894\n",
      "Inserted batch:  895\n",
      "Inserted batch:  896\n",
      "Inserted batch:  897\n",
      "Inserted batch:  898\n",
      "Inserted batch:  899\n",
      "Inserted batch:  900\n",
      "Inserted batch:  901\n",
      "Inserted batch:  902\n",
      "Inserted batch:  903\n",
      "Inserted batch:  904\n",
      "Inserted batch:  905\n",
      "Inserted batch:  906\n",
      "Inserted batch:  907\n",
      "Inserted batch:  908\n",
      "Inserted batch:  909\n",
      "Inserted batch:  910\n",
      "Inserted batch:  911\n",
      "Inserted batch:  912\n",
      "Inserted batch:  913\n",
      "Inserted batch:  914\n",
      "Inserted batch:  915\n",
      "Inserted batch:  916\n",
      "Inserted batch:  917\n",
      "Inserted batch:  918\n",
      "Inserted batch:  919\n",
      "Inserted batch:  920\n",
      "Inserted batch:  921\n",
      "Inserted batch:  922\n",
      "Inserted batch:  923\n",
      "Inserted batch:  924\n",
      "Inserted batch:  925\n",
      "Inserted batch:  926\n",
      "Inserted batch:  927\n",
      "Inserted batch:  928\n",
      "Inserted batch:  929\n",
      "Inserted batch:  930\n",
      "Inserted batch:  931\n",
      "Inserted batch:  932\n",
      "Inserted batch:  933\n",
      "Inserted batch:  934\n",
      "Inserted batch:  935\n",
      "Inserted batch:  936\n",
      "Inserted batch:  937\n",
      "Inserted batch:  938\n",
      "Inserted batch:  939\n",
      "Inserted batch:  940\n",
      "Inserted batch:  941\n",
      "Inserted batch:  942\n",
      "Inserted batch:  943\n",
      "Inserted batch:  944\n",
      "Inserted batch:  945\n",
      "Inserted batch:  946\n",
      "Inserted batch:  947\n",
      "Inserted batch:  948\n",
      "Inserted batch:  949\n",
      "Inserted batch:  950\n",
      "Inserted batch:  951\n",
      "Inserted batch:  952\n",
      "Inserted batch:  953\n",
      "Inserted batch:  954\n",
      "Inserted batch:  955\n",
      "Inserted batch:  956\n",
      "Inserted batch:  957\n",
      "Inserted batch:  958\n",
      "Inserted batch:  959\n",
      "Inserted batch:  960\n",
      "Inserted batch:  961\n",
      "Inserted batch:  962\n",
      "Inserted batch:  963\n",
      "Inserted batch:  964\n",
      "Inserted batch:  965\n",
      "Inserted batch:  966\n",
      "Inserted batch:  967\n",
      "Inserted batch:  968\n",
      "Inserted batch:  969\n",
      "Inserted batch:  970\n",
      "Inserted batch:  971\n",
      "Inserted batch:  972\n",
      "Inserted batch:  973\n",
      "Inserted batch:  974\n",
      "Inserted batch:  975\n",
      "Inserted batch:  976\n",
      "Inserted batch:  977\n",
      "Inserted batch:  978\n",
      "Inserted batch:  979\n",
      "Inserted batch:  980\n",
      "Inserted batch:  981\n",
      "Inserted batch:  982\n",
      "Inserted batch:  983\n",
      "Inserted batch:  984\n",
      "Inserted batch:  985\n",
      "Inserted batch:  986\n",
      "Inserted batch:  987\n",
      "Inserted batch:  988\n",
      "Inserted batch:  989\n",
      "Inserted batch:  990\n",
      "Inserted batch:  991\n",
      "Inserted batch:  992\n",
      "Inserted batch:  993\n",
      "Inserted batch:  994\n",
      "Inserted batch:  995\n",
      "Inserted batch:  996\n",
      "Inserted batch:  997\n",
      "Inserted batch:  998\n",
      "Inserted batch:  999\n",
      "Inserted batch:  1000\n",
      "run time: 59.21301984786987\n"
     ]
    }
   ],
   "source": [
    "batch_size = 1000\n",
    "batch_start = 0\n",
    "start_time=time()\n",
    "counter = 1\n",
    "#values = []\n",
    "for ind, row in df2[batch_start:batch_size].iterrows():\n",
    "    with database.batch() as batch: \n",
    "        \n",
    "        batch.insert(\n",
    "            table='BusiNess',\n",
    "            columns=('business_id', 'name','neighborhood', 'address', 'city', 'state', 'postal_code', 'latitude', \n",
    "                'longitude', 'stars', 'review_count', 'is_open', 'categories'),\n",
    "            values = [(row['business_id'], \n",
    "                    row['name'],\n",
    "                    row['neighborhood'], \n",
    "                    row['address'], \n",
    "                    row['city'], \n",
    "                    row['state'], \n",
    "                    row['postal_code'], \n",
    "                    row['latitude'], \n",
    "                    row['longitude'], \n",
    "                    row['stars'], \n",
    "                    row['review_count'], \n",
    "                    row['is_open'], \n",
    "                      row['categories'])]\n",
    "        )          \n",
    "        batch.commit    \n",
    "    print(\"Inserted batch: \", counter)\n",
    "    counter +=1\n",
    "    batch_size += 1000\n",
    "    batch_start += 1000\n",
    "    \n",
    "        \n",
    "end_time=time()\n",
    "\n",
    "print (\"run time:\",end_time-start_time)"
   ]
  },
  {
   "cell_type": "code",
   "execution_count": null,
   "metadata": {
    "collapsed": true
   },
   "outputs": [],
   "source": [
    "batch_size = 1000\n",
    "batch_start = 0\n",
    "start_time=time()\n",
    "counter = 1\n",
    "\n",
    "for ind, row in df1[batch_start:batch_size].iterrows():\n",
    "    with database.batch() as batch:\n",
    "    \n",
    "        \n",
    "        batch.insert(\n",
    "            table='ReView',\n",
    "                    \n",
    "            columns=('review_id', 'user_id','business_id', 'stars', 'date', 'text', 'useful', 'funny', \n",
    "                'cool'),\n",
    "            values = [(row['review_id'],\n",
    "                        row['user_id'],\n",
    "                        row['business_id'],  \n",
    "                        row['stars'],      \n",
    "                        row['date'],      \n",
    "                        row['text'],        \n",
    "                        row['useful'],       \n",
    "                        row['funny'],       \n",
    "                        row['cool'] )\n",
    "                     ])\n",
    "        \n",
    "            \n",
    "        batch.commit\n",
    "    print(\"Inserted batch: \", counter)\n",
    "    counter +=1\n",
    "    batch_size += 1000\n",
    "    batch_start += 1000\n",
    "\n",
    "end_time=time()\n",
    "\n",
    "print (\"run time:\",end_time-start_time)"
   ]
  },
  {
   "cell_type": "code",
   "execution_count": 111,
   "metadata": {},
   "outputs": [
    {
     "data": {
      "text/plain": [
       "<google.cloud.spanner_v1.streamed.StreamedResultSet at 0x10f4a9240>"
      ]
     },
     "metadata": {},
     "output_type": "display_data"
    },
    {
     "data": {
      "text/plain": [
       "['CO', 3.0, 'RBOXMNb_gzdmy1CRPxv_4A']"
      ]
     },
     "metadata": {},
     "output_type": "display_data"
    },
    {
     "name": "stderr",
     "output_type": "stream",
     "text": [
      "/Users/crystinrodrick/anaconda3/lib/python3.6/site-packages/ipykernel_launcher.py:5: DeprecationWarning: generator 'StreamedResultSet.__iter__' raised StopIteration\n",
      "  \"\"\"\n"
     ]
    }
   ],
   "source": [
    "with database.snapshot() as snapshot:\n",
    "    results = snapshot.execute_sql(\n",
    "        'SELECT state, stars, business_id FROM BusiNess WHERE state = \"CO\" ORDER BY Stars DESC')\n",
    "    display(results)\n",
    "    for row in results:\n",
    "        display(row)\n"
   ]
  }
 ],
 "metadata": {
  "kernelspec": {
   "display_name": "Python 3",
   "language": "python",
   "name": "python3"
  },
  "language_info": {
   "codemirror_mode": {
    "name": "ipython",
    "version": 3
   },
   "file_extension": ".py",
   "mimetype": "text/x-python",
   "name": "python",
   "nbconvert_exporter": "python",
   "pygments_lexer": "ipython3",
   "version": "3.6.3"
  }
 },
 "nbformat": 4,
 "nbformat_minor": 2
}
